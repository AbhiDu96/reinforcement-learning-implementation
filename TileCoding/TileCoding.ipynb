{
 "cells": [
  {
   "cell_type": "markdown",
   "metadata": {},
   "source": [
    "## Tile Coding\n",
    "\n",
    "---\n",
    "<img src=\"Tiling.png\" alt=\"drawing\" width=\"800\">\n",
    "Tile coding is a form of coarse coding for multi-dimensional continuous spaces that is flexible and computationally efficient. It may be the most practical feature representation for modern sequential digital computers.\n",
    "\n",
    "\n",
    "In tile coding the receptive fields of the features are grouped into partitions of the state space. Each such partition is called a tiling, and each element of the partition is called a tile.\n",
    "\n",
    "---\n",
    "## Tiling Offset\n",
    "\n",
    "---\n",
    "Tilings in all cases are offset from each other by a fraction of a tile width in each dimension. If `w` denotes the tile width and `n` the number of tilings, then `w` is a fundamental `w/n` unit.\n",
    "\n",
    "In particular, for a continuous space of dimension `k`, a good choice is to use the first odd integers `(1,3,5,7,...,2k-1)`, with `n (the number of tilings)` set to an integer power of 2 greater than or equal to `4k`. (example: `<k = 2, n = 2^3 >= 4k>`)"
   ]
  },
  {
   "cell_type": "code",
   "execution_count": 1,
   "metadata": {},
   "outputs": [],
   "source": [
    "import numpy as np"
   ]
  },
  {
   "cell_type": "markdown",
   "metadata": {},
   "source": [
    "For a 2 dimensional space with features `x`, `y`, and `number of tilings = n`, \n",
    "then \n",
    "> `for each tiling`:\n",
    ">>   `bins` * `bins`"
   ]
  },
  {
   "cell_type": "code",
   "execution_count": 6,
   "metadata": {},
   "outputs": [],
   "source": [
    "def create_tiling(feat_range, bins, offset):\n",
    "    \"\"\"\n",
    "    Create 1 tiling spec of 1 dimension(feature)\n",
    "    feat_range: feature range; example: [-1, 1]\n",
    "    bins: number of bins for that feature; example: 10\n",
    "    offset: offset for that feature; example: 0.2\n",
    "    \"\"\"\n",
    "    \n",
    "    return np.linspace(feat_range[0], feat_range[1], bins+1)[1:-1] + offset"
   ]
  },
  {
   "cell_type": "code",
   "execution_count": 11,
   "metadata": {},
   "outputs": [
    {
     "data": {
      "text/plain": [
       "array([0.3, 0.4, 0.5, 0.6, 0.7, 0.8, 0.9, 1. , 1.1])"
      ]
     },
     "execution_count": 11,
     "metadata": {},
     "output_type": "execute_result"
    }
   ],
   "source": [
    "feat_range = [0, 1.0]\n",
    "bins = 10\n",
    "offset = 0.2\n",
    "\n",
    "tiling_spec = create_tiling(feat_range, bins, offset)\n",
    "\n",
    "tiling_spec"
   ]
  },
  {
   "cell_type": "code",
   "execution_count": 14,
   "metadata": {},
   "outputs": [],
   "source": [
    "def create_tilings(feature_ranges, number_tilings, bins, offsets):\n",
    "    \"\"\"\n",
    "    feature_ranges: range of each feature; example: x: [-1, 1], y: [2, 5] -> [[-1, 1], [2, 5]]\n",
    "    number_tilings: number of tilings; example: 3 tilings\n",
    "    bins: bin size for each tiling and dimension; example: [[10, 10], [10, 10], [10, 10]]: 3 tilings * [x_bin, y_bin]\n",
    "    offsets: offset for each tiling and dimension; example: [[0, 0], [0.2, 1], [0.4, 1.5]]: 3 tilings * [x_offset, y_offset]\n",
    "    \"\"\"\n",
    "    tilings = []\n",
    "    # for each tiling\n",
    "    for tile_i in range(number_tilings):\n",
    "        tiling_bin = bins[tile_i]\n",
    "        tiling_offset = offsets[tile_i]\n",
    "        \n",
    "        tiling = []\n",
    "        # for each feature dimension\n",
    "        for feat_i in range(len(feature_ranges)):\n",
    "            feat_range = feature_ranges[feat_i]\n",
    "            # tiling for 1 feature\n",
    "            feat_tiling = create_tiling(feat_range, tiling_bin[feat_i], tiling_offset[feat_i])\n",
    "            tiling.append(feat_tiling)\n",
    "        tilings.append(tiling)\n",
    "    return np.array(tilings)"
   ]
  },
  {
   "cell_type": "code",
   "execution_count": 17,
   "metadata": {},
   "outputs": [
    {
     "name": "stdout",
     "output_type": "stream",
     "text": [
      "(3, 2, 9)\n"
     ]
    }
   ],
   "source": [
    "feature_ranges = [[-1, 1], [2, 5]]  # 2 features\n",
    "number_tilings = 3\n",
    "bins = [[10, 10], [10, 10], [10, 10]]  # each tiling has a 10*10 grid\n",
    "offsets = [[0, 0], [0.2, 1], [0.4, 1.5]]\n",
    "\n",
    "tilings = create_tilings(feature_ranges, number_tilings, bins, offsets)\n",
    "\n",
    "print(tilings.shape)  # # of tilings X features X bins"
   ]
  },
  {
   "cell_type": "code",
   "execution_count": 21,
   "metadata": {
    "scrolled": false
   },
   "outputs": [
    {
     "data": {
      "text/plain": [
       "array([[[-8.00000000e-01, -6.00000000e-01, -4.00000000e-01,\n",
       "         -2.00000000e-01,  0.00000000e+00,  2.00000000e-01,\n",
       "          4.00000000e-01,  6.00000000e-01,  8.00000000e-01],\n",
       "        [ 2.30000000e+00,  2.60000000e+00,  2.90000000e+00,\n",
       "          3.20000000e+00,  3.50000000e+00,  3.80000000e+00,\n",
       "          4.10000000e+00,  4.40000000e+00,  4.70000000e+00]],\n",
       "\n",
       "       [[-6.00000000e-01, -4.00000000e-01, -2.00000000e-01,\n",
       "          5.55111512e-17,  2.00000000e-01,  4.00000000e-01,\n",
       "          6.00000000e-01,  8.00000000e-01,  1.00000000e+00],\n",
       "        [ 3.30000000e+00,  3.60000000e+00,  3.90000000e+00,\n",
       "          4.20000000e+00,  4.50000000e+00,  4.80000000e+00,\n",
       "          5.10000000e+00,  5.40000000e+00,  5.70000000e+00]],\n",
       "\n",
       "       [[-4.00000000e-01, -2.00000000e-01,  1.11022302e-16,\n",
       "          2.00000000e-01,  4.00000000e-01,  6.00000000e-01,\n",
       "          8.00000000e-01,  1.00000000e+00,  1.20000000e+00],\n",
       "        [ 3.80000000e+00,  4.10000000e+00,  4.40000000e+00,\n",
       "          4.70000000e+00,  5.00000000e+00,  5.30000000e+00,\n",
       "          5.60000000e+00,  5.90000000e+00,  6.20000000e+00]]])"
      ]
     },
     "execution_count": 21,
     "metadata": {},
     "output_type": "execute_result"
    }
   ],
   "source": [
    "tilings"
   ]
  },
  {
   "cell_type": "code",
   "execution_count": 30,
   "metadata": {},
   "outputs": [],
   "source": [
    "def get_tile_coding(feature, tilings):\n",
    "    \"\"\"\n",
    "    feature: sample feature with multiple dimensions that need to be encoded; example: [0.1, 2.5], [-0.3, 2.0]\n",
    "    tilings: tilings with a few layers\n",
    "    return: the encoding for the feature on each layer\n",
    "    \"\"\"\n",
    "    num_dims = len(feature)\n",
    "    feat_codings = []\n",
    "    for tiling in tilings:\n",
    "        feat_coding = []\n",
    "        for i in range(num_dims):\n",
    "            feat_i = feature[i]\n",
    "            tiling_i = tiling[i]  # tiling on that dimension\n",
    "            coding_i = np.digitize(feat_i, tiling_i)\n",
    "            feat_coding.append(coding_i)\n",
    "        feat_codings.append(feat_coding)\n",
    "    return np.array(feat_codings)"
   ]
  },
  {
   "cell_type": "code",
   "execution_count": 31,
   "metadata": {},
   "outputs": [
    {
     "data": {
      "text/plain": [
       "array([[5, 1],\n",
       "       [4, 0],\n",
       "       [3, 0]])"
      ]
     },
     "execution_count": 31,
     "metadata": {},
     "output_type": "execute_result"
    }
   ],
   "source": [
    "feature = [0.1, 2.5]\n",
    "\n",
    "coding = get_tile_coding(feature, tilings)\n",
    "coding"
   ]
  },
  {
   "cell_type": "markdown",
   "metadata": {},
   "source": [
    "### Q table & Tiling combine\n",
    "---\n",
    "For each tiling, there is a q table with size `<state_dim1 * state_dim2 * ... * action>`"
   ]
  },
  {
   "cell_type": "code",
   "execution_count": 94,
   "metadata": {},
   "outputs": [],
   "source": [
    "class QValueFunction:\n",
    "    \n",
    "    def __init__(self, tilings, actions, lr):\n",
    "        self.tilings = tilings\n",
    "        self.num_tilings = len(self.tilings)\n",
    "        self.actions = actions\n",
    "        self.lr = lr/self.num_tilings  # learning rate equally assigned to each tiling\n",
    "        self.state_sizes = [tuple(len(splits)+1 for splits in tiling) for tiling in self.tilings]  # [(10, 10), (10, 10), (10, 10)]\n",
    "        self.q_tables = [np.zeros(shape=(state_size+(len(self.actions),))) for state_size in self.state_sizes]\n",
    "        \n",
    "    def value(self, state, action):\n",
    "        state_codings = get_tile_coding(state, self.tilings)  # [[5, 1], [4, 0], [3, 0]] ...\n",
    "        action_idx = self.actions.index(action)\n",
    "        \n",
    "        value = 0\n",
    "        for coding, q_table in zip(state_codings, self.q_tables):\n",
    "            # for each q table\n",
    "            value += q_table[tuple(coding)+(action,)]\n",
    "        return value\n",
    "    \n",
    "    def update(self, state, action, target):\n",
    "        state_codings = get_tile_coding(state, self.tilings)  # [[5, 1], [4, 0], [3, 0]] ...\n",
    "        action_idx = self.actions.index(action)\n",
    "        \n",
    "        for coding, q_table in zip(state_codings, self.q_tables):\n",
    "            q_table[tuple(coding)+(action,)] += self.lr*(target - q_table[tuple(coding)+(action,)])\n",
    "            "
   ]
  },
  {
   "cell_type": "code",
   "execution_count": 95,
   "metadata": {},
   "outputs": [],
   "source": [
    "q = QValueFunction(tilings, [0, 1, 2], 0.1)"
   ]
  },
  {
   "cell_type": "code",
   "execution_count": 99,
   "metadata": {},
   "outputs": [
    {
     "data": {
      "text/plain": [
       "0.41300000000000003"
      ]
     },
     "execution_count": 99,
     "metadata": {},
     "output_type": "execute_result"
    }
   ],
   "source": [
    "q.update([0.3, 2.4], 1, 2.1)\n",
    "q.value([0.3, 2.4], 1)"
   ]
  }
 ],
 "metadata": {
  "kernelspec": {
   "display_name": "Python 3",
   "language": "python",
   "name": "python3"
  },
  "language_info": {
   "codemirror_mode": {
    "name": "ipython",
    "version": 3
   },
   "file_extension": ".py",
   "mimetype": "text/x-python",
   "name": "python",
   "nbconvert_exporter": "python",
   "pygments_lexer": "ipython3",
   "version": "3.6.5"
  }
 },
 "nbformat": 4,
 "nbformat_minor": 2
}
