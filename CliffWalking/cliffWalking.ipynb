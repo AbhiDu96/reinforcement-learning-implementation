{
 "cells": [
  {
   "cell_type": "markdown",
   "metadata": {},
   "source": [
    "Cliff Walking\n",
    "---\n",
    "<img style=\"float:left\" src=\"cliff.png\" alt=\"drawing\" width=\"600\"/>\n",
    "---\n",
    "This is a standard undiscounted, episodic task, with start and goal states, and the usual actions causing movement up, down, right, and left. Reward is `-1` on all transitions except those into the region marked `Cliff`. Stepping\n",
    "into this region incurs a reward of optimal path `-100` and sends the agent instantly back to the start."
   ]
  },
  {
   "cell_type": "code",
   "execution_count": 2,
   "metadata": {},
   "outputs": [],
   "source": [
    "import numpy as np"
   ]
  },
  {
   "cell_type": "code",
   "execution_count": 3,
   "metadata": {},
   "outputs": [],
   "source": [
    "ROWS = 4\n",
    "COLS = 12\n",
    "S = (3, 0)\n",
    "G = (3, 11)"
   ]
  },
  {
   "cell_type": "code",
   "execution_count": 20,
   "metadata": {},
   "outputs": [],
   "source": [
    "class Cliff:\n",
    "    \n",
    "    def __init__(self):\n",
    "        self.end = False\n",
    "        self.pos = S\n",
    "        self.board = np.zeros([4, 12])\n",
    "        # add cliff marked as -1\n",
    "        self.board[3, 1:11] = -1\n",
    "        \n",
    "    def nxtPositon(self, action):\n",
    "        if action == \"up\":\n",
    "            nxtPos = (self.pos[0]-1, self.pos[1])\n",
    "        elif action == \"down\":\n",
    "            nxtPos = (self.pos[0]+1, self.pos[1])\n",
    "        elif action == \"left\":\n",
    "            nxtPos = (self.pos[0], self.pos[1]-1)\n",
    "        else:\n",
    "            nxtPos = (self.pos[0], self.pos[1]+1)\n",
    "        # check legitimacy\n",
    "        if nxtPos[0] >= 0 and nxtPos[0] <= 3:\n",
    "            if nxtPos[1] >= 0 and nxtPos[1] <= 11:\n",
    "                self.pos = nxtPos\n",
    "        return self.pos\n",
    "    \n",
    "    def giveReward(self):\n",
    "        # give reward and judge if game ends\n",
    "        if self.board[self.pos] == 0:\n",
    "            if self.pos == G:\n",
    "                self.end = True\n",
    "                print(\"Game ends reaching goal\")\n",
    "            return -1\n",
    "        else:\n",
    "            self.end = True\n",
    "            print(\"Game ends falling off cliff\")\n",
    "            return -100\n",
    "    \n",
    "    \n",
    "    def show(self):\n",
    "        for i in range(0, ROWS):\n",
    "            print('-------------------------------------------------')\n",
    "            out = '| '\n",
    "            for j in range(0, COLS):\n",
    "                if self.board[i, j] == -1:\n",
    "                    token = '*'\n",
    "                if self.board[i, j] == 0:\n",
    "                    token = '0'\n",
    "                if (i, j) == self.pos:\n",
    "                    token = 'S'\n",
    "                if (i, j) == G:\n",
    "                    token = 'G'\n",
    "                out += token + ' | '\n",
    "            print(out)\n",
    "        print('-------------------------------------------------') "
   ]
  },
  {
   "cell_type": "code",
   "execution_count": 21,
   "metadata": {},
   "outputs": [
    {
     "name": "stdout",
     "output_type": "stream",
     "text": [
      "-------------------------------------------------\n",
      "| 0 | 0 | 0 | 0 | 0 | 0 | 0 | 0 | 0 | 0 | 0 | 0 | \n",
      "-------------------------------------------------\n",
      "| 0 | 0 | 0 | 0 | 0 | 0 | 0 | 0 | 0 | 0 | 0 | 0 | \n",
      "-------------------------------------------------\n",
      "| 0 | 0 | 0 | 0 | 0 | 0 | 0 | 0 | 0 | 0 | 0 | 0 | \n",
      "-------------------------------------------------\n",
      "| S | * | * | * | * | * | * | * | * | * | * | G | \n",
      "-------------------------------------------------\n"
     ]
    }
   ],
   "source": [
    "c = Cliff()\n",
    "c.show()"
   ]
  },
  {
   "cell_type": "markdown",
   "metadata": {},
   "source": [
    "SARSA(on-policy) VS Q-Learning(off-policy)\n",
    "---\n",
    "<img style=\"float:left\" src=\"sarsa.png\" alt=\"drawing\" width=\"500\"/>\n",
    "<img style=\"float:left\" src=\"Q-learning.png\" alt=\"drawing\" width=\"500\"/>"
   ]
  },
  {
   "cell_type": "code",
   "execution_count": null,
   "metadata": {},
   "outputs": [],
   "source": [
    "class Agent:\n",
    "    \n",
    "    def __init__(self, exp_rate=0.3, lr=0.1):\n",
    "        self.actions = [\"up\", \"left\", \"right\", \"down\"]\n",
    "        self.postions = []  # record positions of each episode\n",
    "        self.pos = S\n",
    "        self.exp_rate = exp_rate\n",
    "        self.lr = lr\n",
    "        self.state_actions = {}\n",
    "        for i in range(ROWS):\n",
    "            for j in range(COLS):\n",
    "                self.state_actions[(i, j)] = {}\n",
    "                for a in self.actions:\n",
    "                    self.state_actions[(i, j)][a] = 0\n",
    "        \n",
    "    def chooseAction(self):\n",
    "        # epsilon-greedy\n",
    "        mx_nxt_reward = 0\n",
    "        action = \"\"\n",
    "        \n",
    "        if np.random.uniform(0, 1) <= self.exp_rate:\n",
    "            action = np.random.choice(self.actions)\n",
    "        else:\n",
    "            # greedy action\n",
    "            for a in self.actions:\n",
    "                current_position = self.pos\n",
    "                nxt_reward = self.state_actions[current_position][a]\n",
    "                if nxt_reward >= mx_nxt_reward:\n",
    "                    action = a\n",
    "                    mx_nxt_reward = nxt_reward\n",
    "            # print(\"current pos: {}, greedy aciton: {}\".format(self.State.state, action))\n",
    "        return action\n",
    "    \n",
    "    def reset(self):\n",
    "        self.states = []\n",
    "       \n",
    "    def play(self, rounds=10):\n",
    "        "
   ]
  }
 ],
 "metadata": {
  "kernelspec": {
   "display_name": "Python 3",
   "language": "python",
   "name": "python3"
  },
  "language_info": {
   "codemirror_mode": {
    "name": "ipython",
    "version": 3
   },
   "file_extension": ".py",
   "mimetype": "text/x-python",
   "name": "python",
   "nbconvert_exporter": "python",
   "pygments_lexer": "ipython3",
   "version": "3.6.5"
  }
 },
 "nbformat": 4,
 "nbformat_minor": 2
}
