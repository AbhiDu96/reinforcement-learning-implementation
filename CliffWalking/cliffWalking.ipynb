{
 "cells": [
  {
   "cell_type": "markdown",
   "metadata": {},
   "source": [
    "Cliff Walking\n",
    "---\n",
    "<img style=\"float:left\" src=\"cliff.png\" alt=\"drawing\" width=\"600\"/>\n",
    "---\n",
    "This is a standard undiscounted, episodic task, with start and goal states, and the usual actions causing movement up, down, right, and left. Reward is `-1` on all transitions except those into the region marked `Cliff`. Stepping\n",
    "into this region incurs a reward of optimal path `-100` and sends the agent instantly back to the start."
   ]
  },
  {
   "cell_type": "code",
   "execution_count": 2,
   "metadata": {},
   "outputs": [],
   "source": [
    "import numpy as np"
   ]
  },
  {
   "cell_type": "code",
   "execution_count": 3,
   "metadata": {},
   "outputs": [],
   "source": [
    "ROWS = 4\n",
    "COLS = 12\n",
    "S = (3, 0)\n",
    "G = (3, 11)"
   ]
  },
  {
   "cell_type": "code",
   "execution_count": 47,
   "metadata": {},
   "outputs": [],
   "source": [
    "class Cliff:\n",
    "    \n",
    "    def __init__(self):\n",
    "        self.end = False\n",
    "        self.pos = S\n",
    "        self.board = np.zeros([4, 12])\n",
    "        # add cliff marked as -1\n",
    "        self.board[3, 1:11] = -1\n",
    "        \n",
    "    def nxtPosition(self, action):\n",
    "        if action == \"up\":\n",
    "            nxtPos = (self.pos[0]-1, self.pos[1])\n",
    "        elif action == \"down\":\n",
    "            nxtPos = (self.pos[0]+1, self.pos[1])\n",
    "        elif action == \"left\":\n",
    "            nxtPos = (self.pos[0], self.pos[1]-1)\n",
    "        else:\n",
    "            nxtPos = (self.pos[0], self.pos[1]+1)\n",
    "        # check legitimacy\n",
    "        if nxtPos[0] >= 0 and nxtPos[0] <= 3:\n",
    "            if nxtPos[1] >= 0 and nxtPos[1] <= 11:\n",
    "                self.pos = nxtPos\n",
    "                \n",
    "        if self.pos == G:\n",
    "            self.end = True\n",
    "            print(\"Game ends reaching goal\")\n",
    "        if self.board[self.pos] == -1:\n",
    "            self.end = True\n",
    "            print(\"Game ends falling off cliff\")\n",
    "            \n",
    "        return self.pos\n",
    "    \n",
    "    def giveReward(self):\n",
    "        # give reward \n",
    "        if self.board[self.pos] == 0:\n",
    "            return -1\n",
    "        else:\n",
    "            return -100\n",
    "    \n",
    "    \n",
    "    def show(self):\n",
    "        for i in range(0, ROWS):\n",
    "            print('-------------------------------------------------')\n",
    "            out = '| '\n",
    "            for j in range(0, COLS):\n",
    "                if self.board[i, j] == -1:\n",
    "                    token = '*'\n",
    "                if self.board[i, j] == 0:\n",
    "                    token = '0'\n",
    "                if (i, j) == self.pos:\n",
    "                    token = 'S'\n",
    "                if (i, j) == G:\n",
    "                    token = 'G'\n",
    "                out += token + ' | '\n",
    "            print(out)\n",
    "        print('-------------------------------------------------') "
   ]
  },
  {
   "cell_type": "code",
   "execution_count": 48,
   "metadata": {},
   "outputs": [
    {
     "name": "stdout",
     "output_type": "stream",
     "text": [
      "-------------------------------------------------\n",
      "| 0 | 0 | 0 | 0 | 0 | 0 | 0 | 0 | 0 | 0 | 0 | 0 | \n",
      "-------------------------------------------------\n",
      "| 0 | 0 | 0 | 0 | 0 | 0 | 0 | 0 | 0 | 0 | 0 | 0 | \n",
      "-------------------------------------------------\n",
      "| 0 | 0 | 0 | 0 | 0 | 0 | 0 | 0 | 0 | 0 | 0 | 0 | \n",
      "-------------------------------------------------\n",
      "| S | * | * | * | * | * | * | * | * | * | * | G | \n",
      "-------------------------------------------------\n"
     ]
    }
   ],
   "source": [
    "c = Cliff()\n",
    "c.show()"
   ]
  },
  {
   "cell_type": "markdown",
   "metadata": {},
   "source": [
    "SARSA(on-policy) VS Q-Learning(off-policy)\n",
    "---\n",
    "<img style=\"float:left\" src=\"sarsa.png\" alt=\"drawing\" width=\"500\"/>\n",
    "<img style=\"float:left\" src=\"Q-learning.png\" alt=\"drawing\" width=\"500\"/>"
   ]
  },
  {
   "cell_type": "code",
   "execution_count": 54,
   "metadata": {},
   "outputs": [],
   "source": [
    "class Agent:\n",
    "    \n",
    "    def __init__(self, exp_rate=0.3, lr=0.1):\n",
    "        self.cliff = Cliff()\n",
    "        self.actions = [\"up\", \"left\", \"right\", \"down\"]\n",
    "        self.states = []  # record position and action of each episode\n",
    "        self.pos = S\n",
    "        self.exp_rate = exp_rate\n",
    "        self.lr = lr\n",
    "        self.state_actions = {}\n",
    "        for i in range(ROWS):\n",
    "            for j in range(COLS):\n",
    "                self.state_actions[(i, j)] = {}\n",
    "                for a in self.actions:\n",
    "                    self.state_actions[(i, j)][a] = 0\n",
    "        \n",
    "    def chooseAction(self):\n",
    "        # epsilon-greedy\n",
    "        mx_nxt_reward = 0\n",
    "        action = \"\"\n",
    "        \n",
    "        if np.random.uniform(0, 1) <= self.exp_rate:\n",
    "            action = np.random.choice(self.actions)\n",
    "        else:\n",
    "            # greedy action\n",
    "            for a in self.actions:\n",
    "                current_position = self.pos\n",
    "                nxt_reward = self.state_actions[current_position][a]\n",
    "                if nxt_reward >= mx_nxt_reward:\n",
    "                    action = a\n",
    "                    mx_nxt_reward = nxt_reward\n",
    "            # print(\"current pos: {}, greedy aciton: {}\".format(self.State.state, action))\n",
    "        return action\n",
    "    \n",
    "    def reset(self):\n",
    "        self.states = []\n",
    "        self.cliff = Cliff()\n",
    "       \n",
    "    def play(self, rounds=10):\n",
    "        for _ in range(rounds):\n",
    "            while not self.cliff.end:\n",
    "                curr_state = self.pos\n",
    "                cur_reward = self.cliff.giveReward()\n",
    "                action = self.chooseAction()\n",
    "\n",
    "                # next position\n",
    "                self.cliff.pos = self.cliff.nxtPosition(action)\n",
    "                self.pos = self.cliff.pos\n",
    "\n",
    "                self.states.append([curr_state, action, cur_reward])\n",
    "            \n",
    "            # game end update estimates\n",
    "            reward = self.cliff.giveReward()\n",
    "            # reward of all actions in end state is same\n",
    "            for a in self.actions:\n",
    "                self.state_actions[self.pos][a] = reward\n",
    "            \n",
    "            if td:\n",
    "                for s in reversed(self.states):\n",
    "                    pos, action, r = s[0], s[1], s[2]\n",
    "                    current_value = self.state_actions[pos][action]\n",
    "                    reward = current_value + self.lr*(r + reward - current_value)\n",
    "                    self.state_actions[pos][action] = round(reward, 3)\n",
    "            else:\n",
    "                for s in reversed(self.states):\n",
    "                    pos, action, r = s[0], s[1], s[2]\n",
    "                    current_value = self.state_actions[pos][action]\n",
    "                    reward = current_value + self.lr*(r + reward - current_value)\n",
    "                    self.state_actions[pos][action] = round(reward, 3)\n",
    "\n",
    "\n",
    "            self.reset()"
   ]
  },
  {
   "cell_type": "code",
   "execution_count": 55,
   "metadata": {},
   "outputs": [
    {
     "name": "stdout",
     "output_type": "stream",
     "text": [
      "Game ends falling off cliff\n",
      "11111\n",
      "Game ends falling off cliff\n",
      "11111\n",
      "Game ends falling off cliff\n",
      "11111\n",
      "Game ends falling off cliff\n",
      "11111\n",
      "Game ends falling off cliff\n",
      "11111\n",
      "Game ends falling off cliff\n",
      "11111\n",
      "Game ends falling off cliff\n",
      "11111\n",
      "Game ends falling off cliff\n",
      "11111\n",
      "Game ends falling off cliff\n",
      "11111\n",
      "Game ends falling off cliff\n",
      "11111\n"
     ]
    }
   ],
   "source": [
    "ag = Agent(20)\n",
    "ag.play()"
   ]
  },
  {
   "cell_type": "code",
   "execution_count": 56,
   "metadata": {},
   "outputs": [
    {
     "data": {
      "text/plain": [
       "{(0, 0): {'up': 0, 'left': 0, 'right': 0, 'down': -0.113},\n",
       " (0, 1): {'up': 0, 'left': 0, 'right': 0, 'down': 0},\n",
       " (0, 2): {'up': 0, 'left': 0, 'right': 0, 'down': 0},\n",
       " (0, 3): {'up': 0, 'left': 0, 'right': 0, 'down': 0},\n",
       " (0, 4): {'up': 0, 'left': 0, 'right': 0, 'down': 0},\n",
       " (0, 5): {'up': 0, 'left': 0, 'right': 0, 'down': 0},\n",
       " (0, 6): {'up': 0, 'left': 0, 'right': 0, 'down': 0},\n",
       " (0, 7): {'up': 0, 'left': 0, 'right': 0, 'down': 0},\n",
       " (0, 8): {'up': 0, 'left': 0, 'right': 0, 'down': 0},\n",
       " (0, 9): {'up': 0, 'left': 0, 'right': 0, 'down': 0},\n",
       " (0, 10): {'up': 0, 'left': 0, 'right': 0, 'down': 0},\n",
       " (0, 11): {'up': 0, 'left': 0, 'right': 0, 'down': 0},\n",
       " (1, 0): {'up': -0.111, 'left': -0.111, 'right': -0.228, 'down': 0},\n",
       " (1, 1): {'up': 0, 'left': -0.111, 'right': -0.302, 'down': 0},\n",
       " (1, 2): {'up': 0, 'left': -0.121, 'right': 0, 'down': -1.11},\n",
       " (1, 3): {'up': 0, 'left': 0, 'right': 0, 'down': 0},\n",
       " (1, 4): {'up': 0, 'left': 0, 'right': 0, 'down': 0},\n",
       " (1, 5): {'up': 0, 'left': 0, 'right': 0, 'down': 0},\n",
       " (1, 6): {'up': 0, 'left': 0, 'right': 0, 'down': 0},\n",
       " (1, 7): {'up': 0, 'left': 0, 'right': 0, 'down': 0},\n",
       " (1, 8): {'up': 0, 'left': 0, 'right': 0, 'down': 0},\n",
       " (1, 9): {'up': 0, 'left': 0, 'right': 0, 'down': 0},\n",
       " (1, 10): {'up': 0, 'left': 0, 'right': 0, 'down': 0},\n",
       " (1, 11): {'up': 0, 'left': 0, 'right': 0, 'down': 0},\n",
       " (2, 0): {'up': -0.123, 'left': 0, 'right': -1.11, 'down': -13.548},\n",
       " (2, 1): {'up': 0, 'left': 0, 'right': 0, 'down': -10.1},\n",
       " (2, 2): {'up': 0, 'left': 0, 'right': 0, 'down': -10.1},\n",
       " (2, 3): {'up': 0, 'left': 0, 'right': 0, 'down': 0},\n",
       " (2, 4): {'up': 0, 'left': 0, 'right': 0, 'down': 0},\n",
       " (2, 5): {'up': 0, 'left': 0, 'right': 0, 'down': 0},\n",
       " (2, 6): {'up': 0, 'left': 0, 'right': 0, 'down': 0},\n",
       " (2, 7): {'up': 0, 'left': 0, 'right': 0, 'down': 0},\n",
       " (2, 8): {'up': 0, 'left': 0, 'right': 0, 'down': 0},\n",
       " (2, 9): {'up': 0, 'left': 0, 'right': 0, 'down': 0},\n",
       " (2, 10): {'up': 0, 'left': 0, 'right': 0, 'down': 0},\n",
       " (2, 11): {'up': 0, 'left': 0, 'right': 0, 'down': 0},\n",
       " (3, 0): {'up': -2.645, 'left': -1.037, 'right': -57.524, 'down': -4.982},\n",
       " (3, 1): {'up': -100, 'left': -100, 'right': -100, 'down': -100},\n",
       " (3, 2): {'up': -100, 'left': -100, 'right': -100, 'down': -90.598},\n",
       " (3, 3): {'up': 0, 'left': 0, 'right': 0, 'down': 0},\n",
       " (3, 4): {'up': 0, 'left': 0, 'right': 0, 'down': 0},\n",
       " (3, 5): {'up': 0, 'left': 0, 'right': 0, 'down': 0},\n",
       " (3, 6): {'up': 0, 'left': 0, 'right': 0, 'down': 0},\n",
       " (3, 7): {'up': 0, 'left': 0, 'right': 0, 'down': 0},\n",
       " (3, 8): {'up': 0, 'left': 0, 'right': 0, 'down': 0},\n",
       " (3, 9): {'up': 0, 'left': 0, 'right': 0, 'down': 0},\n",
       " (3, 10): {'up': 0, 'left': 0, 'right': 0, 'down': 0},\n",
       " (3, 11): {'up': 0, 'left': 0, 'right': 0, 'down': 0}}"
      ]
     },
     "execution_count": 56,
     "metadata": {},
     "output_type": "execute_result"
    }
   ],
   "source": [
    "ag.state_actions"
   ]
  },
  {
   "cell_type": "code",
   "execution_count": null,
   "metadata": {},
   "outputs": [],
   "source": []
  }
 ],
 "metadata": {
  "kernelspec": {
   "display_name": "Python 3",
   "language": "python",
   "name": "python3"
  },
  "language_info": {
   "codemirror_mode": {
    "name": "ipython",
    "version": 3
   },
   "file_extension": ".py",
   "mimetype": "text/x-python",
   "name": "python",
   "nbconvert_exporter": "python",
   "pygments_lexer": "ipython3",
   "version": "3.6.5"
  }
 },
 "nbformat": 4,
 "nbformat_minor": 2
}
