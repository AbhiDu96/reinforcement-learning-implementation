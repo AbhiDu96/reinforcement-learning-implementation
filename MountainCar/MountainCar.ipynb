{
 "cells": [
  {
   "cell_type": "markdown",
   "metadata": {},
   "source": [
    "# Mountain Car with gradient SARSA\n",
    "---\n",
    "Consider the task of driving an underpowered car up a steep mountain road, as suggested by the diagram. The difficulty is that gravity is stronger than the car’s engine, and even at full throttle the car cannot accelerate up the steep slope. The only solution is to first move away from the goal and up the opposite slope on the left.\n",
    "\n",
    "<img src=\"MountainCar.png\" alt=\"drawing\" width=\"300\"/>\n",
    "\n",
    "The reward in this problem is -1 on all time steps until the car moves past its goal position at the top of the mountain, which ends the episode. There are three possible actions: full throttle forward (+1), full throttle reverse (01), and zero throttle (0). The car moves according to a simplified physics. Its position, `x_t`, and velocity, `x_ ̇t`, are updated by:\n",
    "\n",
    " <img src=\"update_rule.png\" alt=\"drawing\" width=\"500\"/>\n",
    "\n",
    "where the bound operation enforces `-1.2 <= x_t+1 <= 0.5` and `-0.07 <= x_ ̇t+1 <= 0.07`. In addition, when `x_t+1` reached the left bound, `x_ ̇t+1` was reset to zero. When it reached the right bound, the goal was reached and the episode was terminated. Each episode started from a random position `xt` in `[-0.6, -0.4)` and zero velocity.\n",
    "\n",
    "---\n",
    "\n",
    "# Gradient SARSA\n",
    "---\n",
    "<img src=\"semi-sarsa.png\" alt=\"drawing\" width=\"600\"/>"
   ]
  },
  {
   "cell_type": "code",
   "execution_count": 4,
   "metadata": {},
   "outputs": [],
   "source": [
    "import numpy as np\n",
    "import matplotlib.pyplot as plt\n",
    "from TileCoding import *"
   ]
  },
  {
   "cell_type": "code",
   "execution_count": 2,
   "metadata": {},
   "outputs": [],
   "source": [
    "VELOCITY_BOUND = [-0.07, 0.07]\n",
    "POSITION_BOUND = [-1.2, 0.5]"
   ]
  },
  {
   "cell_type": "code",
   "execution_count": 25,
   "metadata": {
    "code_folding": [
     28,
     35,
     43
    ]
   },
   "outputs": [],
   "source": [
    "class ValueFunction:\n",
    "    \n",
    "    def __init__(self, stepSize, numOfTilings=8, maxSize=2048):\n",
    "        self.maxSize = maxSize\n",
    "        self.numOfTilings = numOfTilings\n",
    "\n",
    "        # divide step size equally to each tiling\n",
    "        self.stepSize = stepSize / numOfTilings\n",
    "\n",
    "        self.hashTable = IHT(maxSize)\n",
    "\n",
    "        # weight for each tile\n",
    "        self.weights = np.zeros(maxSize)\n",
    "\n",
    "        # position and velocity needs scaling to satisfy the tile software\n",
    "        self.positionScale = self.numOfTilings / (POSITION_BOUND[1] - POSITION_BOUND[0])\n",
    "        self.velocityScale = self.numOfTilings / (VELOCITY_BOUND[1] - VELOCITY_BOUND[0])\n",
    "\n",
    "    # get indices of active tiles for given state and action\n",
    "    def getActiveTiles(self, position, velocity, action):\n",
    "        # I think positionScale * (position - position_min) would be a good normalization.\n",
    "        # However positionScale * position_min is a constant, so it's ok to ignore it.\n",
    "        activeTiles = tiles(self.hashTable, self.numOfTilings,\n",
    "                            [self.positionScale * position, self.velocityScale * velocity],\n",
    "                            [action])\n",
    "        return activeTiles\n",
    "\n",
    "    # estimate the value of given state and action\n",
    "    def value(self, position, velocity, action):\n",
    "        if position == POSITION_MAX:\n",
    "            return 0.0\n",
    "        activeTiles = self.getActiveTiles(position, velocity, action)\n",
    "        return np.sum(self.weights[activeTiles])\n",
    "\n",
    "    # learn with given state, action and target\n",
    "    def learn(self, position, velocity, action, target):\n",
    "        activeTiles = self.getActiveTiles(position, velocity, action)\n",
    "        estimation = np.sum(self.weights[activeTiles])\n",
    "        delta = self.stepSize * (target - estimation)\n",
    "        for activeTile in activeTiles:\n",
    "            self.weights[activeTile] += delta\n",
    "\n",
    "    # get # of steps to reach the goal under current state value function\n",
    "    def costToGo(self, position, velocity):\n",
    "        costs = []\n",
    "        for action in ACTIONS:\n",
    "            costs.append(self.value(position, velocity, action))\n",
    "        return -np.max(costs)"
   ]
  },
  {
   "cell_type": "code",
   "execution_count": 21,
   "metadata": {},
   "outputs": [],
   "source": [
    "f = ValueFunction(1)"
   ]
  },
  {
   "cell_type": "code",
   "execution_count": null,
   "metadata": {},
   "outputs": [],
   "source": []
  },
  {
   "cell_type": "code",
   "execution_count": null,
   "metadata": {},
   "outputs": [],
   "source": [
    "class MountainCar:\n",
    "    \n",
    "    def __init__(self):\n",
    "        self.actions = [-1, 0, 1]  # reverse, 0 and forward throttle\n",
    "        self.state = (-0.5, 0)  # position, velocity\n",
    "        self.end = False\n",
    "        \n",
    "    def reset(self):\n",
    "        pos = np.random.uniform(-0.6, -0.4)\n",
    "        self.state = (pos, 0)\n",
    "        \n",
    "    def takeAction(self, action):\n",
    "        pos, vel = self.state\n",
    "        \n",
    "        vel_new = vel + 0.001*action - 0.0025*np.cos(3*pos)\n",
    "        vel_new = min(max(vel_new, VELOCITY_BOUND[0]), VELOCITY_BOUND[1])\n",
    "        \n",
    "        pos_new = pos + vel_new\n",
    "        pos_new = min(max(pos_new, POSITION_BOUND[0]), POSITION_BOUND[1])\n",
    "        \n",
    "        if pos_new == POSITION_BOUND[0]:\n",
    "            # reach leftmost, set speed to 0\n",
    "            vel_new = 0\n",
    "        self.state = (pos_new, vel_new)\n",
    "        return self.state\n",
    "    \n",
    "    "
   ]
  }
 ],
 "metadata": {
  "kernelspec": {
   "display_name": "Python 3",
   "language": "python",
   "name": "python3"
  },
  "language_info": {
   "codemirror_mode": {
    "name": "ipython",
    "version": 3
   },
   "file_extension": ".py",
   "mimetype": "text/x-python",
   "name": "python",
   "nbconvert_exporter": "python",
   "pygments_lexer": "ipython3",
   "version": "3.6.5"
  }
 },
 "nbformat": 4,
 "nbformat_minor": 2
}
