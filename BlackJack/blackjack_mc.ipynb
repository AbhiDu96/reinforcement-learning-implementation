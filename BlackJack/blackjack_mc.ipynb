{
 "cells": [
  {
   "cell_type": "markdown",
   "metadata": {},
   "source": [
    "### MC Simulation BlackJack State-Value\n",
    "---\n",
    "- dealer policy: HIT17\n",
    "- player policy: sticks on 20 or 21, otherwise hit\n",
    "---\n",
    "**States:** player's current sum(12–21), the dealer’s one showing card (ace–10), player's usable ace"
   ]
  },
  {
   "cell_type": "code",
   "execution_count": 6,
   "metadata": {},
   "outputs": [],
   "source": [
    "import numpy as np"
   ]
  },
  {
   "cell_type": "code",
   "execution_count": 80,
   "metadata": {},
   "outputs": [],
   "source": [
    "class BlackJackMC(object):\n",
    "    \n",
    "    def __init__(self):\n",
    "        self.player_state_value = {}\n",
    "        self.player_states = []\n",
    "        \n",
    "    \n",
    "    # give card\n",
    "    @staticmethod\n",
    "    def giveCard():\n",
    "        # 1 stands for ace\n",
    "        c_list = list(range(1, 11)) + [10, 10, 10]\n",
    "        return np.random.choice(c_list)\n",
    "    \n",
    "    def dealerPolicy(self, current_value, usable_ace, is_end):\n",
    "        if current_value > 21:\n",
    "            if usable_ace:\n",
    "                current_value -= 10\n",
    "            else:\n",
    "                return current_value, usable_ace, True\n",
    "        # HIT17\n",
    "        if current_value >= 17:\n",
    "            return current_value, usable_ace, True\n",
    "        else:\n",
    "            card = giveCard()\n",
    "            if card == 1:\n",
    "                if current_value <= 10:\n",
    "                    return current_value+11, True, False\n",
    "                return current_value+1, usable_ace, False\n",
    "            else:\n",
    "                return current_value+card, usable_ace, False\n",
    "            \n",
    "                        \n",
    "    def playerPolicy(self, current_value, usable_ace, is_end):\n",
    "        if current_value > 21:\n",
    "            if usable_ace:\n",
    "                current_value -= 10\n",
    "            else:\n",
    "                return current_value, usable_ace, True\n",
    "        # HIT17\n",
    "        if current_value >= 20:\n",
    "            return current_value, usable_ace, True\n",
    "        else:\n",
    "            card = giveCard()\n",
    "            if card == 1:\n",
    "                if current_value <= 10:\n",
    "                    return current_value+11, True, False\n",
    "                return current_value+1, usable_ace, False\n",
    "            else:\n",
    "                return current_value+card, usable_ace, False\n",
    "            \n",
    "    \n",
    "    def _giveCredit(self, player_value, dealer_value, is_end=True):\n",
    "        if is_end:\n",
    "            if player_value > 21:\n",
    "                if dealer_value > 21:\n",
    "                    # draw\n",
    "                    pass\n",
    "                else:\n",
    "                    for s in self.player_states:\n",
    "                        self.player_state_value[s] -= 1\n",
    "            else:\n",
    "                if dealer_value > 21:\n",
    "                    for s in self.player_states:\n",
    "                        self.player_state_value[s] += 1\n",
    "                else:\n",
    "                    if player_value < dealer_value:\n",
    "                        for s in self.player_states:\n",
    "                            self.player_state_value[s] -= 1\n",
    "                    else:\n",
    "                        for s in self.player_states:\n",
    "                            self.player_state_value[s] += 1\n",
    "      \n",
    "    \n",
    "    def play(self, rounds=1000):\n",
    "        # hit 2 cards each\n",
    "        dealer_value, player_value = 0, 0\n",
    "        show_card = 0\n",
    "        \n",
    "        # give dealer 2 cards and show 1\n",
    "        dealer_value += giveCard()\n",
    "        show_card = dealer_value\n",
    "        dealer_value += giveCard()\n",
    "        \n",
    "        # player's turn\n",
    "        # always hit if less than 12\n",
    "        usable_ace, is_end = False, False\n",
    "        while True:\n",
    "            player_value, usable_ace, is_end = self.playerPolicy(player_value, usable_ace, is_end)\n",
    "            \n",
    "            if is_end: \n",
    "                break\n",
    "            # when value goes higher than 12, record states\n",
    "            if (player_value >= 12) and (player_value <= 21):\n",
    "                self.player_states.append((player_value, show_card, usable_ace))\n",
    "        print(\"player card sum\", player_value)\n",
    "        \n",
    "        # dealer's turn\n",
    "        usable_ace, is_end = False, False\n",
    "        while not is_end:\n",
    "            dealer_value, usable_ace, is_end = self.dealerPolicy(dealer_value, usable_ace, is_end)\n",
    "        print(\"dealer card sum\", dealer_value)\n",
    "        \n",
    "        # judge winner\n",
    "        for s in self.player_states:\n",
    "            self.player_state_value[s] = 0 if self.player_state_value.get(s) is None else self.player_state_value.get(s)\n",
    "        \n",
    "        self._giveCredit(player_value, dealer_value)      "
   ]
  },
  {
   "cell_type": "code",
   "execution_count": 83,
   "metadata": {},
   "outputs": [
    {
     "name": "stdout",
     "output_type": "stream",
     "text": [
      "player card sum 25\n",
      "dealer card sum 18\n"
     ]
    }
   ],
   "source": [
    "b = BlackJackMC()\n",
    "b.play()"
   ]
  },
  {
   "cell_type": "code",
   "execution_count": 84,
   "metadata": {},
   "outputs": [
    {
     "data": {
      "text/plain": [
       "[(12, 10, False), (16, 10, False)]"
      ]
     },
     "execution_count": 84,
     "metadata": {},
     "output_type": "execute_result"
    }
   ],
   "source": [
    "b.player_states"
   ]
  },
  {
   "cell_type": "code",
   "execution_count": 76,
   "metadata": {},
   "outputs": [
    {
     "data": {
      "text/plain": [
       "{(15, 4, False): 1, (20, 4, False): 2}"
      ]
     },
     "execution_count": 76,
     "metadata": {},
     "output_type": "execute_result"
    }
   ],
   "source": [
    "b.player_state_value"
   ]
  },
  {
   "cell_type": "code",
   "execution_count": null,
   "metadata": {},
   "outputs": [],
   "source": []
  }
 ],
 "metadata": {
  "kernelspec": {
   "display_name": "Python 3",
   "language": "python",
   "name": "python3"
  },
  "language_info": {
   "codemirror_mode": {
    "name": "ipython",
    "version": 3
   },
   "file_extension": ".py",
   "mimetype": "text/x-python",
   "name": "python",
   "nbconvert_exporter": "python",
   "pygments_lexer": "ipython3",
   "version": "3.6.5"
  }
 },
 "nbformat": 4,
 "nbformat_minor": 2
}
