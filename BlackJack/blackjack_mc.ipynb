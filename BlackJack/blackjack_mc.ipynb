{
 "cells": [
  {
   "cell_type": "markdown",
   "metadata": {},
   "source": [
    "### MC Simulation BlackJack State-Value\n",
    "---\n",
    "- dealer policy: HIT17\n",
    "- player policy: sticks on 20 or 21, otherwise hit\n",
    "---\n",
    "**States:** player's current sum(12–21), the dealer’s one showing card (ace–10), player's usable ace"
   ]
  },
  {
   "cell_type": "code",
   "execution_count": 6,
   "metadata": {},
   "outputs": [],
   "source": [
    "import numpy as np"
   ]
  },
  {
   "cell_type": "code",
   "execution_count": 9,
   "metadata": {},
   "outputs": [],
   "source": [
    "class BlackJackMC(object):\n",
    "    def __init__(self):\n",
    "        self.state_value = {}\n",
    "    \n",
    "    # give card\n",
    "    @staticmethod\n",
    "    def giveCard():\n",
    "        # 1 stands for ace\n",
    "        c_list = list(range(1, 11)) + [10, 10, 10]\n",
    "        return np.random.choice(c_list)\n",
    "    \n",
    "    def dealerPolicy(self, current_value, has_ace, is_end):\n",
    "        if current_value > 21:\n",
    "            if has_ace:\n",
    "                current_value -= 10\n",
    "            else:\n",
    "                return current_value, has_ace, True\n",
    "                    \n",
    "        if current_value >= 17:\n",
    "            return current_value, has_ace, is_end\n",
    "        else:\n",
    "            card = giveCard()\n",
    "            if card == 1:\n",
    "                if current_value <= 10:\n",
    "                    return current_value+11, True, False\n",
    "                return current_value+1, True, False\n",
    "            else:\n",
    "                return current_value+card, has_ace, False\n",
    "            \n",
    "        \n",
    "#         while True:\n",
    "#             current_card = giveCard()\n",
    "#             if current_card == 1:\n",
    "#                 has_ace = True\n",
    "#             value_sum += \n",
    "#             if value_sum >= 17:\n",
    "#                 break\n",
    "                \n",
    "    def playerPolicy(self, current_value, has_ace, is_end):\n",
    "        if current_value > 21:\n",
    "            if has_ace:\n",
    "                current_value -= 10\n",
    "            else:\n",
    "                return current_value, has_ace, True\n",
    "                    \n",
    "        if current_value >= 17:\n",
    "            return current_value, has_ace, is_end\n",
    "        else:\n",
    "            card = giveCard()\n",
    "            if card == 1:\n",
    "                if current_value <= 10:\n",
    "                    return current_value+11, True, False\n",
    "                return current_value+1, True, False\n",
    "            else:\n",
    "                return current_value+card, has_ace, False\n",
    "        \n",
    "    def play(self, rounds=1000):\n",
    "        # hit 2 cards each\n",
    "        dealer_value, player_value = 0, 0\n",
    "        show_card = 0\n",
    "        \n",
    "        for _ in range(2):\n",
    "            "
   ]
  },
  {
   "cell_type": "code",
   "execution_count": null,
   "metadata": {},
   "outputs": [],
   "source": []
  }
 ],
 "metadata": {
  "kernelspec": {
   "display_name": "Python 3",
   "language": "python",
   "name": "python3"
  },
  "language_info": {
   "codemirror_mode": {
    "name": "ipython",
    "version": 3
   },
   "file_extension": ".py",
   "mimetype": "text/x-python",
   "name": "python",
   "nbconvert_exporter": "python",
   "pygments_lexer": "ipython3",
   "version": "3.6.5"
  }
 },
 "nbformat": 4,
 "nbformat_minor": 2
}
