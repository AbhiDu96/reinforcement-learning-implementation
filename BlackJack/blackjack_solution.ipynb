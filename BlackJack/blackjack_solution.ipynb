{
 "cells": [
  {
   "cell_type": "code",
   "execution_count": 1,
   "metadata": {},
   "outputs": [],
   "source": [
    "import numpy as np"
   ]
  },
  {
   "cell_type": "code",
   "execution_count": 40,
   "metadata": {},
   "outputs": [],
   "source": [
    "class BlackJackSolution:\n",
    "    \n",
    "    def __init__(self, lr=0.1, exp_rate=0.3):\n",
    "        self.player_Q_Values = {}  # key: [(player_value, show_card, usable_ace)][action] = value\n",
    "        # initialise Q values | (12-21) x (1-10) x (True, False) x (1, 0) 400 in total\n",
    "        for i in range(12, 22):\n",
    "            for j in range(1, 11):\n",
    "                for k in [True, False]:\n",
    "                    self.player_Q_Values[(i, j, k)] = {}\n",
    "                    for a in [1, 0]:\n",
    "                        self.player_Q_Values[(i, j, k)][a] = 0\n",
    "        \n",
    "        self.player_state_action = []\n",
    "        self.state = (0, 0, False)  # initial state\n",
    "        self.actions = [1, 0]  # 1: HIT  0: STAND\n",
    "        self.end = False\n",
    "        self.lr = lr\n",
    "        self.exp_rate = exp_rate\n",
    "    \n",
    "    # give card\n",
    "    @staticmethod\n",
    "    def giveCard():\n",
    "        # 1 stands for ace\n",
    "        c_list = list(range(1, 11)) + [10, 10, 10]\n",
    "        return np.random.choice(c_list)\n",
    "    \n",
    "    def dealerPolicy(self, current_value, usable_ace, is_end):\n",
    "        if current_value > 21:\n",
    "            if usable_ace:\n",
    "                current_value -= 10\n",
    "                usable_ace = False\n",
    "            else:\n",
    "                return current_value, usable_ace, True\n",
    "        # HIT17\n",
    "        if current_value >= 17:\n",
    "            return current_value, usable_ace, True\n",
    "        else:\n",
    "            card = self.giveCard()\n",
    "            if card == 1:\n",
    "                if current_value <= 10:\n",
    "                    return current_value+11, True, False\n",
    "                return current_value+1, usable_ace, False\n",
    "            else:\n",
    "                return current_value+card, usable_ace, False\n",
    "            \n",
    "    def chooseAction(self):\n",
    "        # if current value <= 11, always hit\n",
    "        current_value = self.state[0]\n",
    "        if current_value <= 11:\n",
    "            return 1\n",
    "        \n",
    "        if np.random.uniform(0, 1) <= self.exp_rate:\n",
    "            action = np.random.choice(self.actions)\n",
    "        else:\n",
    "            # greedy action\n",
    "            v = -999\n",
    "            action = 0\n",
    "            for a in self.player_Q_Values[self.state]:\n",
    "                if self.player_Q_Values[self.state][a] > v:\n",
    "                    action = a\n",
    "                    v = self.player_Q_Values[self.state][a]\n",
    "        return action\n",
    "            \n",
    "    # one can only has 1 usable ace \n",
    "    # return next state\n",
    "    def playerNxtState(self, action):\n",
    "        current_value = self.state[0]\n",
    "        show_card = self.state[1]\n",
    "        usable_ace = self.state[2]\n",
    "        \n",
    "        if current_value > 21:\n",
    "            if usable_ace:\n",
    "                current_value -= 10\n",
    "                usable_ace = False\n",
    "            else:\n",
    "                # should not reach here\n",
    "                self.end = True\n",
    "                self.state = (current_value, show_card, usable_ace)\n",
    "                return\n",
    "        if action:\n",
    "            card = self.giveCard()\n",
    "            if card == 1:\n",
    "                if current_value <= 10:\n",
    "                    current_value += 11\n",
    "                    usable_ace = True\n",
    "                else:\n",
    "                    current_value += 1\n",
    "            else:\n",
    "                current_value += card\n",
    "        else:\n",
    "            # action stand\n",
    "            self.end = True\n",
    "        \n",
    "        if current_value > 21:\n",
    "            self.end = True\n",
    "        self.state = (current_value, show_card, usable_ace)\n",
    "    \n",
    "    def _giveCredit(self, player_value, dealer_value, is_end=True):\n",
    "        reward = 0\n",
    "        if is_end:\n",
    "            if player_value > 21:\n",
    "                if dealer_value > 21:\n",
    "                    # draw\n",
    "                    reward = 0\n",
    "                else:\n",
    "                    reward = -1\n",
    "            else:\n",
    "                if dealer_value > 21:\n",
    "                    reward = 1\n",
    "                else:\n",
    "                    if player_value < dealer_value:\n",
    "                        reward = -1\n",
    "                    elif player_value > dealer_value:\n",
    "                        reward = 1\n",
    "                    else:\n",
    "                        # draw\n",
    "                        reward = 0\n",
    "        # backpropagate reward\n",
    "        for s in reversed(self.player_state_action):\n",
    "            state, action = s[0], s[1]\n",
    "            reward = self.lr*(reward - self.player_Q_Values[state][action])\n",
    "            self.player_Q_Values[state][action] += reward\n",
    "            \n",
    "    def reset(self):\n",
    "        self.player_state_action = []\n",
    "        self.state = (0, 0, False)  # initial state\n",
    "        self.end = False\n",
    "    \n",
    "    def play(self, rounds=1000):\n",
    "        for i in range(rounds):\n",
    "            if i % 1000 == 0:\n",
    "                print(\"round\", i)\n",
    "            # hit 2 cards each\n",
    "            dealer_value, player_value = 0, 0\n",
    "            show_card = 0\n",
    "\n",
    "            # give dealer 2 cards and show 1\n",
    "            dealer_value += self.giveCard()\n",
    "            show_card = dealer_value\n",
    "            self.state = (0, show_card, False)\n",
    "            dealer_value += self.giveCard()\n",
    "\n",
    "            # player's turn\n",
    "            usable_ace, is_end = False, False\n",
    "            while True:\n",
    "                action = self.chooseAction()\n",
    "                print(\"current value {}, action {}\".format(self.state[0], action))\n",
    "                if self.state[0] >= 12:\n",
    "                    self.player_state_action.append([self.state, action])\n",
    "                # update next state\n",
    "                self.playerNxtState(action)\n",
    "                if self.end:\n",
    "                    break    \n",
    "\n",
    "            # dealer's turn\n",
    "            usable_ace, is_end = False, False\n",
    "            while not is_end:\n",
    "                dealer_value, usable_ace, is_end = self.dealerPolicy(dealer_value, usable_ace, is_end)\n",
    "            # print(\"dealer card sum\", dealer_value)\n",
    "\n",
    "            # judge winner\n",
    "            # give reward and update Q value\n",
    "            player_value = self.state[0]\n",
    "            self._giveCredit(player_value, dealer_value)\n",
    "            self.reset()"
   ]
  },
  {
   "cell_type": "code",
   "execution_count": 41,
   "metadata": {},
   "outputs": [
    {
     "name": "stdout",
     "output_type": "stream",
     "text": [
      "round 0\n",
      "current value 0, action 1\n",
      "current value 6, action 1\n",
      "current value 8, action 1\n",
      "current value 10, action 1\n",
      "current value 20, action 1\n",
      "current value 0, action 1\n",
      "current value 5, action 1\n",
      "current value 12, action 1\n",
      "current value 0, action 1\n",
      "current value 11, action 1\n",
      "current value 17, action 1\n",
      "current value 0, action 1\n",
      "current value 11, action 1\n",
      "current value 12, action 1\n",
      "current value 21, action 1\n",
      "current value 0, action 1\n",
      "current value 5, action 1\n",
      "current value 16, action 1\n",
      "current value 0, action 1\n",
      "current value 10, action 1\n",
      "current value 13, action 1\n",
      "current value 0, action 1\n",
      "current value 11, action 1\n",
      "current value 16, action 1\n",
      "current value 17, action 1\n",
      "current value 0, action 1\n",
      "current value 8, action 1\n",
      "current value 18, action 1\n",
      "current value 0, action 1\n",
      "current value 2, action 1\n",
      "current value 12, action 0\n",
      "current value 0, action 1\n",
      "current value 10, action 1\n",
      "current value 13, action 1\n",
      "current value 0, action 1\n",
      "current value 5, action 1\n",
      "current value 9, action 1\n",
      "current value 13, action 1\n",
      "current value 19, action 1\n",
      "current value 0, action 1\n",
      "current value 10, action 1\n",
      "current value 20, action 1\n",
      "current value 0, action 1\n",
      "current value 5, action 1\n",
      "current value 10, action 1\n",
      "current value 14, action 1\n",
      "current value 0, action 1\n",
      "current value 2, action 1\n",
      "current value 8, action 1\n",
      "current value 19, action 1\n",
      "current value 0, action 1\n",
      "current value 3, action 1\n",
      "current value 7, action 1\n",
      "current value 14, action 1\n",
      "current value 15, action 1\n",
      "current value 20, action 1\n",
      "current value 0, action 1\n",
      "current value 10, action 1\n",
      "current value 14, action 1\n",
      "current value 15, action 1\n",
      "current value 18, action 1\n",
      "current value 0, action 1\n",
      "current value 6, action 1\n",
      "current value 11, action 1\n",
      "current value 17, action 1\n",
      "current value 19, action 1\n",
      "current value 0, action 1\n",
      "current value 6, action 1\n",
      "current value 11, action 1\n",
      "current value 18, action 1\n",
      "current value 0, action 1\n",
      "current value 10, action 1\n",
      "current value 15, action 1\n",
      "current value 0, action 1\n",
      "current value 6, action 1\n",
      "current value 16, action 1\n",
      "current value 19, action 1\n",
      "current value 0, action 1\n",
      "current value 4, action 1\n",
      "current value 8, action 1\n",
      "current value 12, action 1\n",
      "current value 13, action 0\n",
      "current value 0, action 1\n",
      "current value 8, action 1\n",
      "current value 13, action 1\n",
      "current value 14, action 1\n",
      "current value 21, action 1\n",
      "current value 0, action 1\n",
      "current value 5, action 1\n",
      "current value 15, action 1\n",
      "current value 21, action 1\n",
      "current value 0, action 1\n",
      "current value 10, action 1\n",
      "current value 17, action 1\n",
      "current value 0, action 1\n",
      "current value 9, action 1\n",
      "current value 19, action 1\n",
      "current value 0, action 1\n",
      "current value 9, action 1\n",
      "current value 17, action 1\n",
      "current value 0, action 1\n",
      "current value 9, action 1\n",
      "current value 18, action 0\n",
      "current value 0, action 1\n",
      "current value 7, action 1\n",
      "current value 10, action 1\n",
      "current value 17, action 1\n",
      "current value 18, action 1\n",
      "current value 0, action 1\n",
      "current value 2, action 1\n",
      "current value 5, action 1\n",
      "current value 11, action 1\n",
      "current value 13, action 0\n",
      "current value 0, action 1\n",
      "current value 6, action 1\n",
      "current value 14, action 0\n"
     ]
    }
   ],
   "source": [
    "b = BlackJackSolution()\n",
    "b.play(30)"
   ]
  },
  {
   "cell_type": "code",
   "execution_count": 34,
   "metadata": {},
   "outputs": [
    {
     "data": {
      "text/plain": [
       "[[(20, 5, False), 1]]"
      ]
     },
     "execution_count": 34,
     "metadata": {},
     "output_type": "execute_result"
    }
   ],
   "source": [
    "b.player_state_action"
   ]
  },
  {
   "cell_type": "code",
   "execution_count": 35,
   "metadata": {},
   "outputs": [
    {
     "data": {
      "text/plain": [
       "{1: -0.1, 0: 0}"
      ]
     },
     "execution_count": 35,
     "metadata": {},
     "output_type": "execute_result"
    }
   ],
   "source": [
    "b.player_Q_Values[(20, 5, False)]"
   ]
  },
  {
   "cell_type": "code",
   "execution_count": 10,
   "metadata": {},
   "outputs": [
    {
     "data": {
      "text/plain": [
       "200"
      ]
     },
     "execution_count": 10,
     "metadata": {},
     "output_type": "execute_result"
    }
   ],
   "source": [
    "len(b.player_Q_Values)"
   ]
  },
  {
   "cell_type": "code",
   "execution_count": 11,
   "metadata": {},
   "outputs": [
    {
     "data": {
      "text/plain": [
       "(0, 0, False)"
      ]
     },
     "execution_count": 11,
     "metadata": {},
     "output_type": "execute_result"
    }
   ],
   "source": [
    "b.state"
   ]
  },
  {
   "cell_type": "code",
   "execution_count": 18,
   "metadata": {},
   "outputs": [
    {
     "name": "stdout",
     "output_type": "stream",
     "text": [
      "round 0\n"
     ]
    },
    {
     "ename": "KeyError",
     "evalue": "(20, 0, False)",
     "output_type": "error",
     "traceback": [
      "\u001b[0;31m---------------------------------------------------------------------------\u001b[0m",
      "\u001b[0;31mKeyError\u001b[0m                                  Traceback (most recent call last)",
      "\u001b[0;32m<ipython-input-18-20a3be2b5db4>\u001b[0m in \u001b[0;36m<module>\u001b[0;34m()\u001b[0m\n\u001b[0;32m----> 1\u001b[0;31m \u001b[0mb\u001b[0m\u001b[0;34m.\u001b[0m\u001b[0mplay\u001b[0m\u001b[0;34m(\u001b[0m\u001b[0;36m1\u001b[0m\u001b[0;34m)\u001b[0m\u001b[0;34m\u001b[0m\u001b[0m\n\u001b[0m",
      "\u001b[0;32m<ipython-input-16-7ad3b805bac9>\u001b[0m in \u001b[0;36mplay\u001b[0;34m(self, rounds)\u001b[0m\n\u001b[1;32m    143\u001b[0m             \u001b[0musable_ace\u001b[0m\u001b[0;34m,\u001b[0m \u001b[0mis_end\u001b[0m \u001b[0;34m=\u001b[0m \u001b[0;32mFalse\u001b[0m\u001b[0;34m,\u001b[0m \u001b[0;32mFalse\u001b[0m\u001b[0;34m\u001b[0m\u001b[0m\n\u001b[1;32m    144\u001b[0m             \u001b[0;32mwhile\u001b[0m \u001b[0;32mTrue\u001b[0m\u001b[0;34m:\u001b[0m\u001b[0;34m\u001b[0m\u001b[0m\n\u001b[0;32m--> 145\u001b[0;31m                 \u001b[0maction\u001b[0m \u001b[0;34m=\u001b[0m \u001b[0mself\u001b[0m\u001b[0;34m.\u001b[0m\u001b[0mchooseAction\u001b[0m\u001b[0;34m(\u001b[0m\u001b[0;34m)\u001b[0m\u001b[0;34m\u001b[0m\u001b[0m\n\u001b[0m\u001b[1;32m    146\u001b[0m                 \u001b[0;32mif\u001b[0m \u001b[0mself\u001b[0m\u001b[0;34m.\u001b[0m\u001b[0mstate\u001b[0m\u001b[0;34m[\u001b[0m\u001b[0;36m0\u001b[0m\u001b[0;34m]\u001b[0m \u001b[0;34m>=\u001b[0m \u001b[0;36m12\u001b[0m\u001b[0;34m:\u001b[0m\u001b[0;34m\u001b[0m\u001b[0m\n\u001b[1;32m    147\u001b[0m                     \u001b[0mself\u001b[0m\u001b[0;34m.\u001b[0m\u001b[0mplayer_state_action\u001b[0m\u001b[0;34m.\u001b[0m\u001b[0mappend\u001b[0m\u001b[0;34m(\u001b[0m\u001b[0;34m[\u001b[0m\u001b[0mself\u001b[0m\u001b[0;34m.\u001b[0m\u001b[0mstate\u001b[0m\u001b[0;34m,\u001b[0m \u001b[0maction\u001b[0m\u001b[0;34m]\u001b[0m\u001b[0;34m)\u001b[0m\u001b[0;34m\u001b[0m\u001b[0m\n",
      "\u001b[0;32m<ipython-input-16-7ad3b805bac9>\u001b[0m in \u001b[0;36mchooseAction\u001b[0;34m(self)\u001b[0m\n\u001b[1;32m     56\u001b[0m             \u001b[0mv\u001b[0m \u001b[0;34m=\u001b[0m \u001b[0;34m-\u001b[0m\u001b[0;36m999\u001b[0m\u001b[0;34m\u001b[0m\u001b[0m\n\u001b[1;32m     57\u001b[0m             \u001b[0maction\u001b[0m \u001b[0;34m=\u001b[0m \u001b[0;36m0\u001b[0m\u001b[0;34m\u001b[0m\u001b[0m\n\u001b[0;32m---> 58\u001b[0;31m             \u001b[0;32mfor\u001b[0m \u001b[0ma\u001b[0m \u001b[0;32min\u001b[0m \u001b[0mself\u001b[0m\u001b[0;34m.\u001b[0m\u001b[0mplayer_Q_Values\u001b[0m\u001b[0;34m[\u001b[0m\u001b[0mself\u001b[0m\u001b[0;34m.\u001b[0m\u001b[0mstate\u001b[0m\u001b[0;34m]\u001b[0m\u001b[0;34m:\u001b[0m\u001b[0;34m\u001b[0m\u001b[0m\n\u001b[0m\u001b[1;32m     59\u001b[0m                 \u001b[0;32mif\u001b[0m \u001b[0mself\u001b[0m\u001b[0;34m.\u001b[0m\u001b[0mplayer_Q_Values\u001b[0m\u001b[0;34m[\u001b[0m\u001b[0mself\u001b[0m\u001b[0;34m.\u001b[0m\u001b[0mstate\u001b[0m\u001b[0;34m]\u001b[0m\u001b[0;34m[\u001b[0m\u001b[0ma\u001b[0m\u001b[0;34m]\u001b[0m \u001b[0;34m>\u001b[0m \u001b[0mv\u001b[0m\u001b[0;34m:\u001b[0m\u001b[0;34m\u001b[0m\u001b[0m\n\u001b[1;32m     60\u001b[0m                     \u001b[0maction\u001b[0m \u001b[0;34m=\u001b[0m \u001b[0ma\u001b[0m\u001b[0;34m\u001b[0m\u001b[0m\n",
      "\u001b[0;31mKeyError\u001b[0m: (20, 0, False)"
     ]
    }
   ],
   "source": [
    "b.play(1)"
   ]
  },
  {
   "cell_type": "code",
   "execution_count": null,
   "metadata": {},
   "outputs": [],
   "source": []
  }
 ],
 "metadata": {
  "kernelspec": {
   "display_name": "Python 3",
   "language": "python",
   "name": "python3"
  },
  "language_info": {
   "codemirror_mode": {
    "name": "ipython",
    "version": 3
   },
   "file_extension": ".py",
   "mimetype": "text/x-python",
   "name": "python",
   "nbconvert_exporter": "python",
   "pygments_lexer": "ipython3",
   "version": "3.6.5"
  }
 },
 "nbformat": 4,
 "nbformat_minor": 2
}
