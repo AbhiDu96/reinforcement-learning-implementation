{
 "cells": [
  {
   "cell_type": "markdown",
   "metadata": {},
   "source": [
    "### Multi-Arm Bandit\n",
    "---\n",
    "**Upper-Confidence-Bound**\n",
    "<img style=\"float:left\" src=\"UCB1.png\" alt=\"drawing\" width=\"300\"/>\n",
    "\n",
    "where ln t denotes the natural logarithm of t (the number that e = 2.71828 would have to be raised to in order to equal t), Nt(a) denotes the number of times that action a has been selected prior to time t (the denominator in (2.1)), and the number c > 0 controls the degree of exploration. If Nt(a) = 0, then a is considered to be a maximizing action."
   ]
  },
  {
   "cell_type": "code",
   "execution_count": 1,
   "metadata": {},
   "outputs": [],
   "source": [
    "import numpy as np\n",
    "import matplotlib.pyplot as plt"
   ]
  },
  {
   "cell_type": "code",
   "execution_count": 24,
   "metadata": {},
   "outputs": [],
   "source": [
    "class Bandit:\n",
    "    def __init__(self, k=10, exp_rate=.3, lr=0.1):\n",
    "        self.k = k\n",
    "        self.actions = range(self.k)\n",
    "        self.exp_rate = exp_rate\n",
    "        self.lr = lr\n",
    "        self.total_reward = 0\n",
    "        self.avg_reward = []\n",
    "        \n",
    "        self.TrueValue = []\n",
    "        for i in range(self.k):\n",
    "            self.TrueValue.append(np.random.randn())  # standard normal distribution\n",
    "        \n",
    "        self.values = np.zeros(self.k)\n",
    "        self.times = 0\n",
    "        self.action_times = np.zeros(self.k)\n",
    "    \n",
    "    def chooseAction(self):\n",
    "        # explore\n",
    "        if np.random.uniform(0, 1) <= self.exp_rate:\n",
    "            action = np.random.choice(self.actions)\n",
    "        else:\n",
    "            # exploit\n",
    "            action = np.argmax(self.values)\n",
    "        return action\n",
    "    \n",
    "    def takeAction(self, action):\n",
    "        self.times += 1\n",
    "        self.action_times[action] += 1\n",
    "        # take action and update value estimates\n",
    "        # reward = self.TrueValue[action]\n",
    "        reward = np.random.randn() + self.TrueValue[action]  # add randomness to reward\n",
    "        # using incremental method to propagate\n",
    "        self.values[action] += self.lr * (reward - self.values[action])  # look like fixed lr converges better\n",
    "        \n",
    "        self.total_reward += reward\n",
    "        self.avg_reward.append(self.total_reward/self.times)\n",
    "        \n",
    "    def play(self, n):\n",
    "        for _ in range(n):\n",
    "            action = self.chooseAction()\n",
    "            self.takeAction(action)"
   ]
  },
  {
   "cell_type": "code",
   "execution_count": 18,
   "metadata": {},
   "outputs": [],
   "source": [
    "bdt = Bandit(k=5)\n",
    "bdt.play(2000)"
   ]
  },
  {
   "cell_type": "code",
   "execution_count": 19,
   "metadata": {},
   "outputs": [
    {
     "name": "stdout",
     "output_type": "stream",
     "text": [
      "Estimated values [ 1.46741839 -0.03175273  1.16176119  1.03419784 -0.7886088 ]\n",
      "Actual values [1.776884241136464, -0.03272624662440113, 1.4013505997714082, 1.1854466681816254, -0.5722397490207137]\n"
     ]
    }
   ],
   "source": [
    "print(\"Estimated values\", bdt.values)\n",
    "print(\"Actual values\", bdt.TrueValue)"
   ]
  },
  {
   "cell_type": "code",
   "execution_count": 20,
   "metadata": {
    "scrolled": true
   },
   "outputs": [
    {
     "data": {
      "text/plain": [
       "array([1445.,  120.,  189.,  140.,  106.])"
      ]
     },
     "execution_count": 20,
     "metadata": {},
     "output_type": "execute_result"
    }
   ],
   "source": [
    "bdt.action_times"
   ]
  },
  {
   "cell_type": "code",
   "execution_count": 5,
   "metadata": {},
   "outputs": [
    {
     "data": {
      "text/plain": [
       "Text(0,0.5,'avg reward')"
      ]
     },
     "execution_count": 5,
     "metadata": {},
     "output_type": "execute_result"
    },
    {
     "data": {
      "image/png": "[encoded data removed]",
      "text/plain": [
       "<Figure size 432x288 with 1 Axes>"
      ]
     },
     "metadata": {},
     "output_type": "display_data"
    }
   ],
   "source": [
    "plt.plot(bdt.avg_reward)\n",
    "plt.xlabel(\"n_iter\")\n",
    "plt.ylabel(\"avg reward\")"
   ]
  },
  {
   "cell_type": "code",
   "execution_count": null,
   "metadata": {},
   "outputs": [],
   "source": []
  }
 ],
 "metadata": {
  "kernelspec": {
   "display_name": "Python 3",
   "language": "python",
   "name": "python3"
  },
  "language_info": {
   "codemirror_mode": {
    "name": "ipython",
    "version": 3
   },
   "file_extension": ".py",
   "mimetype": "text/x-python",
   "name": "python",
   "nbconvert_exporter": "python",
   "pygments_lexer": "ipython3",
   "version": "3.6.5"
  }
 },
 "nbformat": 4,
 "nbformat_minor": 2
}
