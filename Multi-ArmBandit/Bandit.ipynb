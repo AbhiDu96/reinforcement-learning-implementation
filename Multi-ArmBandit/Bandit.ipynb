{
 "cells": [
  {
   "cell_type": "code",
   "execution_count": 1,
   "metadata": {},
   "outputs": [],
   "source": [
    "import numpy as np"
   ]
  },
  {
   "cell_type": "code",
   "execution_count": 23,
   "metadata": {},
   "outputs": [],
   "source": [
    "class Bandit:\n",
    "    def __init__(self, k=10, exp_rate=.3):\n",
    "        self.k = k\n",
    "        self.actions = range(self.k)\n",
    "        self.exp_rate = exp_rate\n",
    "        self.total_reward = 0\n",
    "        self.avg_reward = []\n",
    "        \n",
    "        self.TrueValue = []\n",
    "        for i in range(self.k):\n",
    "            self.TrueValue.append(np.random.randn())  # standard normal distribution\n",
    "        \n",
    "        self.values = np.zeros(self.k)\n",
    "        self.times = 0\n",
    "    \n",
    "    def chooseAction(self):\n",
    "        # explore\n",
    "        if np.random.uniform(0, 1) <= self.exp_rate:\n",
    "            action = np.random.choice(self.actions)\n",
    "        else:\n",
    "            # exploit\n",
    "            action = np.argmax(self.values)\n",
    "        return action\n",
    "    \n",
    "    def takeAction(self, action):\n",
    "        self.times += 1\n",
    "        # take action and update value estimates\n",
    "        reward = np.random.randn() + self.TrueValue[action]  # add randomness to reward\n",
    "        # using incremental method to propagate\n",
    "        self.values[action] += 1/self.times * (reward - self.values[action])\n",
    "        \n",
    "        self.total_reward += reward\n",
    "        self.avg_reward.append(self.total_reward/self.times)\n",
    "        \n",
    "    def play(self, n):\n",
    "        for _ in range(n):\n",
    "            action = self.chooseAction()\n",
    "            self.takeAction(action)"
   ]
  },
  {
   "cell_type": "code",
   "execution_count": 24,
   "metadata": {},
   "outputs": [],
   "source": [
    "bdt = Bandit(k=5)"
   ]
  },
  {
   "cell_type": "code",
   "execution_count": 25,
   "metadata": {},
   "outputs": [],
   "source": [
    "bdt.play(1000)"
   ]
  },
  {
   "cell_type": "code",
   "execution_count": 26,
   "metadata": {},
   "outputs": [
    {
     "data": {
      "text/plain": [
       "array([-0.77348325,  0.15234243,  0.66705359, -1.00409528, -0.17930832])"
      ]
     },
     "execution_count": 26,
     "metadata": {},
     "output_type": "execute_result"
    }
   ],
   "source": [
    "bdt.values"
   ]
  },
  {
   "cell_type": "code",
   "execution_count": 27,
   "metadata": {},
   "outputs": [
    {
     "data": {
      "text/plain": [
       "[-1.1868327454352077,\n",
       " 0.7328327570619165,\n",
       " 0.682876732534503,\n",
       " -1.907171534811549,\n",
       " -0.019883589615622258]"
      ]
     },
     "execution_count": 27,
     "metadata": {},
     "output_type": "execute_result"
    }
   ],
   "source": [
    "bdt.TrueValue"
   ]
  },
  {
   "cell_type": "code",
   "execution_count": null,
   "metadata": {},
   "outputs": [],
   "source": [
    "sel"
   ]
  }
 ],
 "metadata": {
  "kernelspec": {
   "display_name": "Python 3",
   "language": "python",
   "name": "python3"
  },
  "language_info": {
   "codemirror_mode": {
    "name": "ipython",
    "version": 3
   },
   "file_extension": ".py",
   "mimetype": "text/x-python",
   "name": "python",
   "nbconvert_exporter": "python",
   "pygments_lexer": "ipython3",
   "version": "3.6.5"
  }
 },
 "nbformat": 4,
 "nbformat_minor": 2
}
