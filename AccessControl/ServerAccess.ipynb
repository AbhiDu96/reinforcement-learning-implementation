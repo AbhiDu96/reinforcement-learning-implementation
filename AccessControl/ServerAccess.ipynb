{
 "cells": [
  {
   "cell_type": "markdown",
   "metadata": {},
   "source": [
    "Access-Control Queuing Task\n",
    "---\n",
    "This is a decision task involving access control to a set of 10 servers. Customers of four different priorities arrive at a single queue. If given access to a server, the customers pay a reward of `1, 2, 4, or 8` to the server, depending on their priority, with higher priority customers paying more. In each time step, the customer at the head of the queue is either accepted (assigned to one of the servers) or rejected (removed from the queue, with a reward of zero). In either case, on the next time step the next customer in the queue is considered. The queue never empties, and the priorities of the customers in the queue are equally randomly distributed. Of course a customer cannot be served if there is no free server; the customer is always rejected in this case. Each busy server becomes free with probability `p = 0.06` on each time step.\n",
    "\n",
    "The task is to decide on each step whether to accept or reject the next customer, on the basis of his priority and the number of free servers, so as `to maximize long-term reward without discounting`.\n",
    "\n",
    "- State(num_servers, priority)\n",
    "- Action(1, 0)\n",
    "- Reward(1, 2, 4, 8)\n",
    "---\n",
    "<img src=\"differential_sarsa.png\" width=\"600\" style=\"float:left\">"
   ]
  },
  {
   "cell_type": "code",
   "execution_count": 1,
   "metadata": {},
   "outputs": [],
   "source": [
    "import numpy as np"
   ]
  },
  {
   "cell_type": "code",
   "execution_count": null,
   "metadata": {},
   "outputs": [],
   "source": [
    "class ValueFunction:\n",
    "    def __init__(self, num_tilings):\n",
    "        self.num_tilings = num_tilings\n",
    "        \n",
    "    def update(self, state, action, target):\n",
    "        pass\n",
    "    \n",
    "    def value(self, state, action):\n",
    "        pass"
   ]
  },
  {
   "cell_type": "code",
   "execution_count": 2,
   "metadata": {},
   "outputs": [],
   "source": [
    "class ServerAcess:\n",
    "    def __init__(self, exp_rate=0.3, lr=0.1):\n",
    "        self.n_server = 10\n",
    "        self.free_prob = 0.06\n",
    "        self.priorities = range(4)\n",
    "        self.actions = [0, 1]  # 0: reject; 1: accept\n",
    "        self.state = (0, 0)  # (num_servers, priority)\n",
    "        \n",
    "        self.exp_rate = exp_rate\n",
    "        self.lr = lr\n",
    "        \n",
    "    def numFreeServers(self):\n",
    "        n = 0\n",
    "        for _ in range(self.n_server):\n",
    "            if np.random.uniform(0, 1) <= 0.06:\n",
    "                n += 1\n",
    "        return n\n",
    "    \n",
    "    def chooseAction(self, valueFunc):\n",
    "        if np.random.uniform(0, 1) <= self.exp_rate:\n",
    "            action = np.random.choice(self.actions)\n",
    "        else:\n",
    "            values = {}\n",
    "            for a in self.actions:\n",
    "                v = valueFunc.value(self.state, a)\n",
    "                values[a] = v\n",
    "            action = np.random.choice([k for k, v in values.items() if v == max(values.values())])\n",
    "        return action\n",
    "    \n",
    "    def giveReward(self, action):\n",
    "        # recieve a reward by taking the action\n",
    "        if action == 1:\n",
    "            priority = self.state[1]\n",
    "            return np.power(2, priority)\n",
    "        return 0\n",
    "    \n",
    "    def run(self):\n",
    "        "
   ]
  },
  {
   "cell_type": "code",
   "execution_count": 3,
   "metadata": {},
   "outputs": [],
   "source": [
    "sa = ServerAcess()"
   ]
  },
  {
   "cell_type": "code",
   "execution_count": 6,
   "metadata": {},
   "outputs": [
    {
     "name": "stdout",
     "output_type": "stream",
     "text": [
      "1\n",
      "0\n",
      "1\n",
      "0\n",
      "2\n"
     ]
    }
   ],
   "source": [
    "for _ in range(5):\n",
    "    print(sa.numFreeServers())"
   ]
  },
  {
   "cell_type": "code",
   "execution_count": null,
   "metadata": {},
   "outputs": [],
   "source": []
  }
 ],
 "metadata": {
  "kernelspec": {
   "display_name": "Python 3",
   "language": "python",
   "name": "python3"
  },
  "language_info": {
   "codemirror_mode": {
    "name": "ipython",
    "version": 3
   },
   "file_extension": ".py",
   "mimetype": "text/x-python",
   "name": "python",
   "nbconvert_exporter": "python",
   "pygments_lexer": "ipython3",
   "version": "3.6.5"
  }
 },
 "nbformat": 4,
 "nbformat_minor": 2
}
