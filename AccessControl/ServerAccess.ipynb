{
 "cells": [
  {
   "cell_type": "markdown",
   "metadata": {},
   "source": [
    "Access-Control Queuing Task\n",
    "---\n",
    "This is a decision task involving access control to a set of 10 servers. Customers of four different priorities arrive at a single queue. If given access to a server, the customers pay a reward of `1, 2, 4, or 8` to the server, depending on their priority, with higher priority customers paying more. In each time step, the customer at the head of the queue is either accepted (assigned to one of the servers) or rejected (removed from the queue, with a reward of zero). In either case, on the next time step the next customer in the queue is considered. The queue never empties, and the priorities of the customers in the queue are equally randomly distributed. Of course a customer cannot be served if there is no free server; the customer is always rejected in this case. Each busy server becomes free with probability `p = 0.06` on each time step.\n",
    "\n",
    "The task is to decide on each step whether to accept or reject the next customer, on the basis of his priority and the number of free servers, so as `to maximize long-term reward without discounting`.\n",
    "\n",
    "- State(num_servers, priority)\n",
    "- Action(1, 0)\n",
    "- Reward(1, 2, 4, 8)\n",
    "---\n",
    "<img src=\"differential_sarsa.png\" width=\"600\" style=\"float:left\">"
   ]
  },
  {
   "cell_type": "code",
   "execution_count": 5,
   "metadata": {},
   "outputs": [],
   "source": [
    "import numpy as np\n",
    "import matplotlib.pyplot as plt\n",
    "from TileCoding import *"
   ]
  },
  {
   "cell_type": "code",
   "execution_count": 6,
   "metadata": {},
   "outputs": [],
   "source": [
    "ACTIONS = [0, 1]"
   ]
  },
  {
   "cell_type": "code",
   "execution_count": 60,
   "metadata": {},
   "outputs": [],
   "source": [
    "class ValueFunction:\n",
    "\n",
    "    def __init__(self, alpha=0.01, numOfTilings=8, maxSize=2048):\n",
    "        self.maxSize = maxSize\n",
    "        self.numOfTilings = numOfTilings\n",
    "\n",
    "        # divide step size equally to each tiling\n",
    "        self.alpha = alpha / numOfTilings  # learning rate for each tile\n",
    "\n",
    "        self.hashTable = IHT(maxSize)\n",
    "\n",
    "        # weight for each tile\n",
    "        self.weights = np.zeros(maxSize)\n",
    "\n",
    "        # position and velocity needs scaling to satisfy the tile software\n",
    "        self.serverScale = self.numOfTilings / 10.0  # 10 servers\n",
    "        self.priorityScale = self.numOfTilings / 3.0  # 4 kinds of priorities\n",
    "\n",
    "    # get indices of active tiles for given state and action\n",
    "    def getActiveTiles(self, n_server, priority, action):\n",
    "        activeTiles = tiles(self.hashTable, self.numOfTilings,\n",
    "                            [self.serverScale * n_server, self.priorityScale * priority],\n",
    "                            [action])\n",
    "#         print(\"active tiles for {}-{}-{}: {}\".format(n_server, priority, action, activeTiles))\n",
    "        return activeTiles\n",
    "\n",
    "    # estimate the value of given state and action\n",
    "    def value(self, state, action):\n",
    "        n_server, priority = state\n",
    "        activeTiles = self.getActiveTiles(n_server, priority, action)\n",
    "        return np.sum(self.weights[activeTiles])\n",
    "\n",
    "    # learn with given state, action and target\n",
    "    def update(self, state, action, delta):\n",
    "        n_server, priority = state\n",
    "        activeTiles = self.getActiveTiles(n_server, priority, action)\n",
    "        \n",
    "        delta *= self.alpha\n",
    "        for activeTile in activeTiles:\n",
    "            self.weights[activeTile] += delta\n",
    "            \n",
    "    def stateValue(self, state):\n",
    "        if state[0] == 0:\n",
    "            # no server available\n",
    "            return self.value(state, 0)\n",
    "        values = [self.value(state, a) for a in ACTIONS]\n",
    "        return max(values)"
   ]
  },
  {
   "cell_type": "code",
   "execution_count": 58,
   "metadata": {
    "code_folding": [
     13
    ]
   },
   "outputs": [],
   "source": [
    "class ServerAcess:\n",
    "    def __init__(self, exp_rate=0.3, lr=0.1, beta=0.01):\n",
    "        self.n_server = 10\n",
    "        self.free_prob = 0.06\n",
    "        self.priorities = range(4)\n",
    "        self.actions = ACTIONS  # 0: reject; 1: accept\n",
    "        self.state = (0, 0)  # (num_servers, priority)\n",
    "        \n",
    "        self.exp_rate = exp_rate\n",
    "        self.lr = lr\n",
    "        self.beta = beta\n",
    "#         self.alpha = alpha\n",
    "        \n",
    "    def numFreeServers(self):\n",
    "        n = 0\n",
    "        n_free_server = self.state[0]\n",
    "        n_busy_server = self.n_server - n_free_server\n",
    "        for _ in range(n_busy_server):\n",
    "            if np.random.uniform(0, 1) <= 0.06:\n",
    "                n += 1\n",
    "        n_free_server += n\n",
    "        self.state = (n_free_server, self.state[1])\n",
    "        return n_free_server\n",
    "    \n",
    "    def chooseAction(self, valueFunc):\n",
    "        n_free_server = self.numFreeServers()\n",
    "        if n_free_server == 0:\n",
    "            return 0\n",
    "        if np.random.uniform(0, 1) <= self.exp_rate:\n",
    "            action = np.random.choice(self.actions)\n",
    "        else:\n",
    "            values = {}\n",
    "            for a in self.actions:\n",
    "                v = valueFunc.value(self.state, a)\n",
    "                values[a] = v\n",
    "            action = np.random.choice([k for k, v in values.items() if v == max(values.values())])\n",
    "        return action\n",
    "    \n",
    "    def nxtState(self, action):\n",
    "        if action == 1:\n",
    "            n_free_server = self.state[0] - 1\n",
    "        else:\n",
    "            n_free_server = self.state[0]\n",
    "        priority = np.random.choice(self.priorities)\n",
    "        self.state = (n_free_server, priority)\n",
    "        return self.state\n",
    "    \n",
    "    def giveReward(self, action):\n",
    "        # recieve a reward by taking the action\n",
    "        if action == 1:\n",
    "            priority = self.state[1]\n",
    "            return np.power(2, priority)\n",
    "        return 0\n",
    "    \n",
    "    def run(self, valueFunc, steps=1000, inner_steps=100, debug=False):\n",
    "        # updating average reward estimation along the way\n",
    "        avg_reward = 0\n",
    "        self.state = (10, np.random.choice(self.priorities))\n",
    "        cur_state = self.state\n",
    "        cur_action = self.chooseAction(valueFunc)  # n free server is also updated\n",
    "        \n",
    "        total_reward = 0\n",
    "        for i in range(1, steps+1):\n",
    "            reward = self.giveReward(cur_action)\n",
    "            new_state = self.nxtState(cur_action)\n",
    "            new_action = self.chooseAction(valueFunc)\n",
    "            \n",
    "            total_reward += reward\n",
    "            if debug:\n",
    "                print(\"state {} action {} reward {}\".format(cur_state, cur_action, reward))\n",
    "            if i % inner_steps == 0:\n",
    "                print(\"step {} -> avg reward {} total reward {}\".format(i, avg_reward, total_reward))\n",
    "                total_reward = 0\n",
    "            \n",
    "            delta = reward - avg_reward + valueFunc.value(new_state, new_action) - valueFunc.value(cur_state, cur_action)\n",
    "            avg_reward += self.beta*delta\n",
    "            valueFunc.update(cur_state, cur_action, delta)\n",
    "            \n",
    "            cur_state = new_state\n",
    "            cur_action = new_action"
   ]
  },
  {
   "cell_type": "code",
   "execution_count": 59,
   "metadata": {
    "scrolled": true
   },
   "outputs": [
    {
     "name": "stdout",
     "output_type": "stream",
     "text": [
      "step 5000 -> avg reward 2.5898638607383124 total reward 11564\n",
      "step 10000 -> avg reward 1.9977852171103436 total reward 11136\n",
      "step 15000 -> avg reward 2.0811726628648675 total reward 11844\n",
      "step 20000 -> avg reward 2.7027010976915133 total reward 11292\n",
      "step 25000 -> avg reward 1.9270934931878343 total reward 11388\n",
      "step 30000 -> avg reward 2.4730018256264508 total reward 11507\n",
      "step 35000 -> avg reward 2.4343651511460105 total reward 11734\n",
      "step 40000 -> avg reward 2.082349301008451 total reward 10928\n",
      "step 45000 -> avg reward 1.9432234467044867 total reward 10750\n",
      "step 50000 -> avg reward 2.462456921306841 total reward 11731\n"
     ]
    }
   ],
   "source": [
    "sa = ServerAcess(exp_rate=0.1)\n",
    "vf = ValueFunction()\n",
    "sa.run(vf, steps=50000, inner_steps=5000, debug=False)"
   ]
  },
  {
   "cell_type": "code",
   "execution_count": 46,
   "metadata": {},
   "outputs": [
    {
     "data": {
      "text/plain": [
       "<matplotlib.legend.Legend at 0x10f46fa90>"
      ]
     },
     "execution_count": 46,
     "metadata": {},
     "output_type": "execute_result"
    },
    {
     "data": {
      "image/png": "[encoded data removed]",
      "text/plain": [
       "<Figure size 720x432 with 1 Axes>"
      ]
     },
     "metadata": {},
     "output_type": "display_data"
    }
   ],
   "source": [
    "plt.figure(figsize=[10, 6])\n",
    "\n",
    "for prioriy in range(4):\n",
    "    n_servers = []\n",
    "    values = []\n",
    "    for n_server in range(11):\n",
    "        value = vf.stateValue((n_server, prioriy))\n",
    "        n_servers.append(n_server)\n",
    "        values.append(value)\n",
    "    plt.plot(n_servers, values, label=\"priority {}\".format(np.power(2, prioriy)))\n",
    "plt.legend()"
   ]
  },
  {
   "cell_type": "code",
   "execution_count": null,
   "metadata": {},
   "outputs": [],
   "source": []
  },
  {
   "cell_type": "code",
   "execution_count": null,
   "metadata": {},
   "outputs": [],
   "source": []
  },
  {
   "cell_type": "code",
   "execution_count": null,
   "metadata": {},
   "outputs": [],
   "source": []
  },
  {
   "cell_type": "code",
   "execution_count": 61,
   "metadata": {},
   "outputs": [],
   "source": [
    "import numpy as np\n",
    "\n",
    "\n",
    "def create_tiling(feat_range, bins, offset):\n",
    "    \"\"\"\n",
    "    Create 1 tiling spec of 1 dimension(feature)\n",
    "    feat_range: feature range; example: [-1, 1]\n",
    "    bins: number of bins for that feature; example: 10\n",
    "    offset: offset for that feature; example: 0.2\n",
    "    \"\"\"\n",
    "    \n",
    "    return np.linspace(feat_range[0], feat_range[1], bins+1)[1:-1] + offset\n",
    "\n",
    "\n",
    "def create_tilings(feature_ranges, number_tilings, bins, offsets):\n",
    "    \"\"\"\n",
    "    feature_ranges: range of each feature; example: x: [-1, 1], y: [2, 5] -> [[-1, 1], [2, 5]]\n",
    "    number_tilings: number of tilings; example: 3 tilings\n",
    "    bins: bin size for each tiling and dimension; example: [[10, 10], [10, 10], [10, 10]]: 3 tilings * [x_bin, y_bin]\n",
    "    offsets: offset for each tiling and dimension; example: [[0, 0], [0.2, 1], [0.4, 1.5]]: 3 tilings * [x_offset, y_offset]\n",
    "    \"\"\"\n",
    "    tilings = []\n",
    "    # for each tiling\n",
    "    for tile_i in range(number_tilings):\n",
    "        tiling_bin = bins[tile_i]\n",
    "        tiling_offset = offsets[tile_i]\n",
    "        \n",
    "        tiling = []\n",
    "        # for each feature dimension\n",
    "        for feat_i in range(len(feature_ranges)):\n",
    "            feat_range = feature_ranges[feat_i]\n",
    "            # tiling for 1 feature\n",
    "            feat_tiling = create_tiling(feat_range, tiling_bin[feat_i], tiling_offset[feat_i])\n",
    "            tiling.append(feat_tiling)\n",
    "        tilings.append(tiling)\n",
    "    return np.array(tilings)\n",
    "\n",
    "\n",
    "def get_tile_coding(feature, tilings):\n",
    "    \"\"\"\n",
    "    feature: sample feature with multiple dimensions that need to be encoded; example: [0.1, 2.5], [-0.3, 2.0]\n",
    "    tilings: tilings with a few layers\n",
    "    return: the encoding for the feature on each layer\n",
    "    \"\"\"\n",
    "    num_dims = len(feature)\n",
    "    feat_codings = []\n",
    "    for tiling in tilings:\n",
    "        feat_coding = []\n",
    "        for i in range(num_dims):\n",
    "            feat_i = feature[i]\n",
    "            tiling_i = tiling[i]  # tiling on that dimension\n",
    "            coding_i = np.digitize(feat_i, tiling_i)\n",
    "            feat_coding.append(coding_i)\n",
    "        feat_codings.append(feat_coding)\n",
    "    return np.array(feat_codings)"
   ]
  },
  {
   "cell_type": "code",
   "execution_count": 62,
   "metadata": {},
   "outputs": [],
   "source": [
    "server_range = [0, 10]\n",
    "priority_range = [0, 3]\n",
    "feature_ranges = [server_range, priority_range]  # 2 features\n",
    "number_tilings = 8\n",
    "bins = [[16, 16] for _ in range(number_tilings)]\n",
    "offsets = [[i, j] for i, j in zip(np.linspace(server_range[0], server_range[1], number_tilings), \n",
    "                                  np.linspace(priority_range[0], priority_range[1], number_tilings))]\n",
    "\n",
    "tilings = create_tilings(feature_ranges=feature_ranges, number_tilings=number_tilings, bins=bins, offsets=offsets)"
   ]
  },
  {
   "cell_type": "code",
   "execution_count": 75,
   "metadata": {},
   "outputs": [
    {
     "data": {
      "text/plain": [
       "(8, 2, 15)"
      ]
     },
     "execution_count": 75,
     "metadata": {},
     "output_type": "execute_result"
    }
   ],
   "source": [
    "tilings.shape"
   ]
  },
  {
   "cell_type": "code",
   "execution_count": 80,
   "metadata": {},
   "outputs": [],
   "source": [
    "# example Q-function\n",
    "\n",
    "class QValueFunction:\n",
    "\n",
    "    def __init__(self, tilings, actions, lr):\n",
    "        self.tilings = tilings\n",
    "        self.num_tilings = len(self.tilings)\n",
    "        self.actions = [0, 1]\n",
    "        self.lr = lr # / self.num_tilings  # learning rate equally assigned to each tiling\n",
    "        self.state_sizes = [tuple(len(splits) + 1 for splits in tiling) for tiling in\n",
    "                            self.tilings]  # [(10, 10), (10, 10), (10, 10)]\n",
    "        self.q_tables = [np.zeros(shape=(state_size + (len(self.actions),))) for state_size in self.state_sizes]\n",
    "\n",
    "    def value(self, state, action):\n",
    "        state_codings = get_tile_coding(state, self.tilings)  # [[5, 1], [4, 0], [3, 0]] ...\n",
    "        action_idx = self.actions.index(action)\n",
    "\n",
    "        value = 0\n",
    "        for coding, q_table in zip(state_codings, self.q_tables):\n",
    "            # for each q table\n",
    "            value += q_table[tuple(coding) + (action_idx,)]\n",
    "        return value / self.num_tilings\n",
    "\n",
    "    def update(self, state, action, delta):\n",
    "        n_server, priority = state\n",
    "        state_codings = get_tile_coding(state, self.tilings)  # [[5, 1], [4, 0], [3, 0]] ...\n",
    "        action_idx = self.actions.index(action)\n",
    "        \n",
    "        delta *= self.lr\n",
    "        for coding, q_table in zip(state_codings, self.q_tables):\n",
    "            q_table[tuple(coding) + (action_idx,)] += delta\n",
    "    \n",
    "#     def update(self, state, action, target):\n",
    "#         n_server, priority = state\n",
    "#         state_codings = get_tile_coding(state, self.tilings)  # [[5, 1], [4, 0], [3, 0]] ...\n",
    "#         action_idx = self.actions.index(action)\n",
    "        \n",
    "#         for coding, q_table in zip(state_codings, self.q_tables):\n",
    "#             delta = target - q_table[tuple(coding) + (action_idx,)]\n",
    "#             q_table[tuple(coding) + (action_idx,)] += self.lr*delta\n",
    "    \n",
    "    def stateValue(self, state):\n",
    "        if state[0] == 0:\n",
    "            # no server available\n",
    "            return self.value(state, 0)\n",
    "        values = [self.value(state, a) for a in ACTIONS]\n",
    "        return max(values)"
   ]
  },
  {
   "cell_type": "code",
   "execution_count": 81,
   "metadata": {},
   "outputs": [],
   "source": [
    "class ServerAcess:\n",
    "    def __init__(self, exp_rate=0.3, lr=0.1, beta=0.01):\n",
    "        self.n_server = 10\n",
    "        self.free_prob = 0.06\n",
    "        self.priorities = range(4)\n",
    "        self.actions = ACTIONS  # 0: reject; 1: accept\n",
    "        self.state = (0, 0)  # (num_servers, priority)\n",
    "        \n",
    "        self.exp_rate = exp_rate\n",
    "        self.lr = lr\n",
    "        self.beta = beta\n",
    "#         self.alpha = alpha\n",
    "        \n",
    "    def numFreeServers(self):\n",
    "        n = 0\n",
    "        n_free_server = self.state[0]\n",
    "        n_busy_server = self.n_server - n_free_server\n",
    "        for _ in range(n_busy_server):\n",
    "            if np.random.uniform(0, 1) <= 0.06:\n",
    "                n += 1\n",
    "        n_free_server += n\n",
    "        self.state = (n_free_server, self.state[1])\n",
    "        return n_free_server\n",
    "    \n",
    "    def chooseAction(self, valueFunc):\n",
    "        n_free_server = self.numFreeServers()\n",
    "        if n_free_server == 0:\n",
    "            return 0\n",
    "        if np.random.uniform(0, 1) <= self.exp_rate:\n",
    "            action = np.random.choice(self.actions)\n",
    "        else:\n",
    "            values = {}\n",
    "            for a in self.actions:\n",
    "                v = valueFunc.value(self.state, a)\n",
    "                values[a] = v\n",
    "            action = np.random.choice([k for k, v in values.items() if v == max(values.values())])\n",
    "        return action\n",
    "    \n",
    "    def nxtState(self, action):\n",
    "        if action == 1:\n",
    "            n_free_server = self.state[0] - 1\n",
    "        else:\n",
    "            n_free_server = self.state[0]\n",
    "        priority = np.random.choice(self.priorities)\n",
    "        self.state = (n_free_server, priority)\n",
    "        return self.state\n",
    "    \n",
    "    def giveReward(self, action):\n",
    "        # recieve a reward by taking the action\n",
    "        if action == 1:\n",
    "            priority = self.state[1]\n",
    "            return np.power(2, priority)\n",
    "        return 0\n",
    "    \n",
    "    def run(self, valueFunc, steps=1000, inner_steps=100, debug=False):\n",
    "        # updating average reward estimation along the way\n",
    "        avg_reward = 0\n",
    "        self.state = (10, np.random.choice(self.priorities))\n",
    "        cur_state = self.state\n",
    "        cur_action = self.chooseAction(valueFunc)  # n free server is also updated\n",
    "        \n",
    "        total_reward = 0\n",
    "        for i in range(1, steps+1):\n",
    "            reward = self.giveReward(cur_action)\n",
    "            new_state = self.nxtState(cur_action)\n",
    "            new_action = self.chooseAction(valueFunc)\n",
    "            \n",
    "            total_reward += reward\n",
    "            if debug:\n",
    "                print(\"state {} action {} reward {}\".format(cur_state, cur_action, reward))\n",
    "            if i % inner_steps == 0:\n",
    "                print(\"step {} -> avg reward {} total reward {}\".format(i, avg_reward, total_reward))\n",
    "                total_reward = 0\n",
    "            \n",
    "            target = reward - avg_reward + valueFunc.value(new_state, new_action)\n",
    "            delta = reward - avg_reward + valueFunc.value(new_state, new_action) - valueFunc.value(cur_state, cur_action)\n",
    "            avg_reward += self.beta*delta\n",
    "            valueFunc.update(cur_state, cur_action, delta)\n",
    "            \n",
    "            cur_state = new_state\n",
    "            cur_action = new_action"
   ]
  },
  {
   "cell_type": "code",
   "execution_count": 84,
   "metadata": {},
   "outputs": [
    {
     "name": "stdout",
     "output_type": "stream",
     "text": [
      "step 5000 -> avg reward 2.1019611666225098 total reward 10666\n",
      "step 10000 -> avg reward 2.383694303802434 total reward 10957\n",
      "step 15000 -> avg reward 2.02584251326506 total reward 10867\n",
      "step 20000 -> avg reward 2.163536587536679 total reward 10653\n",
      "step 25000 -> avg reward 2.489066319454473 total reward 11112\n",
      "step 30000 -> avg reward 2.0464605655433745 total reward 10949\n",
      "step 35000 -> avg reward 2.1653024589223544 total reward 10840\n",
      "step 40000 -> avg reward 2.1597426022410304 total reward 11095\n",
      "step 45000 -> avg reward 1.8629362023037483 total reward 10798\n",
      "step 50000 -> avg reward 2.229973080461522 total reward 10755\n",
      "step 55000 -> avg reward 2.134778970204409 total reward 10777\n",
      "step 60000 -> avg reward 2.255413028642548 total reward 10557\n",
      "step 65000 -> avg reward 1.785408910292558 total reward 10642\n",
      "step 70000 -> avg reward 2.2913496596071528 total reward 10580\n",
      "step 75000 -> avg reward 2.358822343640672 total reward 10852\n",
      "step 80000 -> avg reward 2.0711822310522807 total reward 10648\n",
      "step 85000 -> avg reward 1.8496197191809793 total reward 10828\n",
      "step 90000 -> avg reward 2.0686314980340077 total reward 10506\n",
      "step 95000 -> avg reward 1.6435837805245455 total reward 10929\n",
      "step 100000 -> avg reward 2.443491373086237 total reward 10282\n"
     ]
    }
   ],
   "source": [
    "sa = ServerAcess(exp_rate=0.1)\n",
    "vf = QValueFunction(tilings=tilings, actions=[0, 1], lr=0.01)\n",
    "sa.run(vf, steps=100000, inner_steps=5000, debug=False)"
   ]
  },
  {
   "cell_type": "code",
   "execution_count": 85,
   "metadata": {},
   "outputs": [
    {
     "data": {
      "text/plain": [
       "<matplotlib.legend.Legend at 0x10f9359b0>"
      ]
     },
     "execution_count": 85,
     "metadata": {},
     "output_type": "execute_result"
    },
    {
     "data": {
      "image/png": "[encoded data removed]",
      "text/plain": [
       "<Figure size 720x432 with 1 Axes>"
      ]
     },
     "metadata": {},
     "output_type": "display_data"
    }
   ],
   "source": [
    "plt.figure(figsize=[10, 6])\n",
    "\n",
    "for prioriy in range(4):\n",
    "    n_servers = []\n",
    "    values = []\n",
    "    for n_server in range(11):\n",
    "        value = vf.stateValue((n_server, prioriy))\n",
    "        n_servers.append(n_server)\n",
    "        values.append(value)\n",
    "    plt.plot(n_servers, values, label=\"priority {}\".format(np.power(2, prioriy)))\n",
    "plt.legend()"
   ]
  },
  {
   "cell_type": "code",
   "execution_count": null,
   "metadata": {},
   "outputs": [],
   "source": []
  }
 ],
 "metadata": {
  "kernelspec": {
   "display_name": "Python 3",
   "language": "python",
   "name": "python3"
  },
  "language_info": {
   "codemirror_mode": {
    "name": "ipython",
    "version": 3
   },
   "file_extension": ".py",
   "mimetype": "text/x-python",
   "name": "python",
   "nbconvert_exporter": "python",
   "pygments_lexer": "ipython3",
   "version": "3.6.5"
  }
 },
 "nbformat": 4,
 "nbformat_minor": 2
}
