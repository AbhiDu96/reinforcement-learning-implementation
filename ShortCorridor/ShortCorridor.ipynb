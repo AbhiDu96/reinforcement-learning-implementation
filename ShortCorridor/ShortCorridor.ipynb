{
 "cells": [
  {
   "cell_type": "markdown",
   "metadata": {},
   "source": [
    "Short Corridor with Switched Actions\n",
    "---\n",
    "Consider the small corridor gridworld shown inset in the graph below. The reward is -1 per step, as usual. In each of the three nonterminal states there are only two actions, right and left. These actions have their usual consequences in the first and third states (left causes no movement in the first state), but in the second state they are reversed, so that right moves to the left and left moves to the right. The problem is diffcult because all the states appear identical under the function approximation. In particular, we define `x(s, right) = [1, 0]` and `x(s, left) = [0, 1]`, for all s.\n",
    "\n",
    "<img src=\"corridor.png\" width=\"600\">\n",
    "\n",
    "MC Policy Gradient\n",
    "---\n",
    "<img src=\"mc_policy_gradient.png\" width=\"600\">"
   ]
  },
  {
   "cell_type": "code",
   "execution_count": 3,
   "metadata": {},
   "outputs": [],
   "source": [
    "import numpy as np\n",
    "import matplotlib.pyplot as plt"
   ]
  },
  {
   "cell_type": "code",
   "execution_count": 25,
   "metadata": {},
   "outputs": [],
   "source": [
    "class ShortCorridor:\n",
    "    def __init__(self, alpha=0.1, gamma=0.6):\n",
    "        self.actions = [\"left\", \"right\"]\n",
    "        self.x = np.array([[0, 1], [1, 0]])  # left|s, right|s\n",
    "        self.theta = np.array([-1.47, 1.47])\n",
    "        self.state = 0  # initial state 0\n",
    "        self.end = False\n",
    "        \n",
    "    def softmax(self, vector):\n",
    "        return np.exp(vector)/sum(np.exp(vector))\n",
    "        \n",
    "    def chooseAction(self):\n",
    "        h = np.dot(self.theta, self.x)\n",
    "        prob = self.softmax(h)  # left, right probability for all state\n",
    "        print(prob)\n",
    "        \n",
    "        action = np.random.choice(self.actions, p=prob)\n",
    "        return action\n",
    "    \n",
    "    def takeAction(self, action):\n",
    "        if self.state == 0:\n",
    "            nxtState = 0 if action == \"left\" else 1\n",
    "        elif self.state == 1:\n",
    "            nxtState = 2 if action == \"left\" else 0  # reversed\n",
    "        elif self.state == 2:\n",
    "            nxtState = 1 if action == \"left\" else 3\n",
    "        else:\n",
    "            nxtState = 2 if action == \"left\" else 3\n",
    "        return nxtState\n",
    "    \n",
    "    def giveReward(self):\n",
    "        if self.state == 3:\n",
    "            return 0\n",
    "        return -1\n",
    "    \n",
    "    "
   ]
  },
  {
   "cell_type": "code",
   "execution_count": 26,
   "metadata": {},
   "outputs": [],
   "source": [
    "sc = ShortCorridor()"
   ]
  },
  {
   "cell_type": "code",
   "execution_count": 27,
   "metadata": {},
   "outputs": [
    {
     "name": "stdout",
     "output_type": "stream",
     "text": [
      "[0.94978873 0.05021127]\n"
     ]
    },
    {
     "data": {
      "text/plain": [
       "'left'"
      ]
     },
     "execution_count": 27,
     "metadata": {},
     "output_type": "execute_result"
    }
   ],
   "source": [
    "sc.chooseAction()"
   ]
  },
  {
   "cell_type": "code",
   "execution_count": null,
   "metadata": {},
   "outputs": [],
   "source": []
  }
 ],
 "metadata": {
  "kernelspec": {
   "display_name": "Python 3",
   "language": "python",
   "name": "python3"
  },
  "language_info": {
   "codemirror_mode": {
    "name": "ipython",
    "version": 3
   },
   "file_extension": ".py",
   "mimetype": "text/x-python",
   "name": "python",
   "nbconvert_exporter": "python",
   "pygments_lexer": "ipython3",
   "version": "3.6.5"
  }
 },
 "nbformat": 4,
 "nbformat_minor": 2
}
