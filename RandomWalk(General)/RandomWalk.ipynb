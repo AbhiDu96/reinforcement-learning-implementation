{
 "cells": [
  {
   "cell_type": "markdown",
   "metadata": {},
   "source": [
    "1000 Steps Random Walk\n",
    "---\n",
    "Consider a 1000-state version of the random walk task. The states are numbered from `1 to 1000`, left to right, and all episodes begin near the center, in state `500`. State transitions are from the current state to one of the `100` neighboring states to its left, or to one of the `100` neighboring states to its right, all with equal probability. Of course, if the current state is near an edge, then there may be fewer than `100` neighbors on that side of it. In this case, all the probability that would have gone into those missing neighbors goes into the probability of terminating on that side (thus, state 1 has a 0.5 chance of terminating on the left, and state 950 has a 0.25 chance of terminating on the right). As usual, termination on the left produces a reward of `-1`, and termination on the right produces a reward of `+1`. All other transitions have a reward of `zero`.\n",
    "\n",
    "<img style=\"float:left\" src=\"semi-TD.png\" alt=\"drawing\" width=\"700\"/>\n",
    "\n",
    "For the state aggregation, the 1000 states were partitioned into 10 groups of 100 states each (i.e., states 1–100 were one group, states 101–200 were another, and so on)\n",
    "\n",
    "<img style=\"float:left\" src=\"update.png\" alt=\"drawing\" width=\"500\"/>"
   ]
  },
  {
   "cell_type": "code",
   "execution_count": 2,
   "metadata": {},
   "outputs": [],
   "source": [
    "import numpy as np"
   ]
  },
  {
   "cell_type": "code",
   "execution_count": 1,
   "metadata": {},
   "outputs": [],
   "source": [
    "NUM_STATES = 1000\n",
    "START = 500\n",
    "END_0 = 0\n",
    "END_1 = 1001"
   ]
  },
  {
   "cell_type": "code",
   "execution_count": null,
   "metadata": {},
   "outputs": [],
   "source": [
    "class PolyValueFunction:\n",
    "    \n",
    "    def __init__(self, order):\n",
    "        self.func = [lambda x, i=i: np.power(x, i) for i in range(0, order+1)]\n",
    "    \n",
    "    def value(self):\n",
    "        pass\n",
    "    \n",
    "    def update(self):\n",
    "        pass"
   ]
  },
  {
   "cell_type": "code",
   "execution_count": 12,
   "metadata": {},
   "outputs": [],
   "source": [
    "class RandomWalk:\n",
    "    \n",
    "    def __init__(self):\n",
    "        self.state = START\n",
    "        self.actions = [\"left\", \"right\"]\n",
    "        self.end = False\n",
    "        \n",
    "    def chooseAction(self):\n",
    "        action = np.random.choice(self.actions)\n",
    "        return action\n",
    "    \n",
    "    def takeAction(self, action):\n",
    "        # choose steps from 1 to 100\n",
    "        steps = np.random.choice(range(1, 101))\n",
    "        if action == \"left\":\n",
    "            state = self.state - steps\n",
    "        else:\n",
    "            state = self.state + steps\n",
    "        # judge if end of game\n",
    "        if state <= END_0 or state >= END_1:\n",
    "            self.end = True\n",
    "        \n",
    "        self.state = state\n",
    "        return state\n",
    "    \n",
    "    def giveReward(self):\n",
    "        if self.state <= END_0:\n",
    "            return -1\n",
    "        if self.state >= END_1:\n",
    "            return 1\n",
    "        return 0\n",
    "    \n",
    "    def play(self, valueFunction, rounds):\n",
    "        pass"
   ]
  },
  {
   "cell_type": "code",
   "execution_count": 13,
   "metadata": {},
   "outputs": [],
   "source": [
    "rw = RandomWalk()"
   ]
  },
  {
   "cell_type": "code",
   "execution_count": 16,
   "metadata": {},
   "outputs": [
    {
     "name": "stdout",
     "output_type": "stream",
     "text": [
      "49\n"
     ]
    },
    {
     "data": {
      "text/plain": [
       "441"
      ]
     },
     "execution_count": 16,
     "metadata": {},
     "output_type": "execute_result"
    }
   ],
   "source": [
    "rw.takeAction(\"left\")"
   ]
  },
  {
   "cell_type": "code",
   "execution_count": null,
   "metadata": {},
   "outputs": [],
   "source": []
  }
 ],
 "metadata": {
  "kernelspec": {
   "display_name": "Python 3",
   "language": "python",
   "name": "python3"
  },
  "language_info": {
   "codemirror_mode": {
    "name": "ipython",
    "version": 3
   },
   "file_extension": ".py",
   "mimetype": "text/x-python",
   "name": "python",
   "nbconvert_exporter": "python",
   "pygments_lexer": "ipython3",
   "version": "3.6.5"
  }
 },
 "nbformat": 4,
 "nbformat_minor": 2
}
